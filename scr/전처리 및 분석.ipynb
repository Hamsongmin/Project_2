{
 "cells": [
  {
   "cell_type": "code",
   "execution_count": 2,
   "id": "f0b9a36c",
   "metadata": {
    "id": "f0b9a36c"
   },
   "outputs": [],
   "source": [
    "import csv\n",
    "import pandas as pd\n",
    "import konlpy\n",
    "import sys\n",
    "import numpy as np\n",
    "from konlpy.tag import Okt\n",
    "from collections import Counter\n",
    "from wordcloud import STOPWORDS\n",
    "from wordcloud import WordCloud\n",
    "from IPython.display import Image\n",
    "import matplotlib.pyplot as plt"
   ]
  },
  {
   "cell_type": "code",
   "execution_count": 3,
   "id": "7d00100e",
   "metadata": {
    "colab": {
     "base_uri": "https://localhost:8080/",
     "height": 354
    },
    "id": "7d00100e",
    "outputId": "3cb0a785-7979-4666-9d62-2d2d7a9cbcdd",
    "scrolled": true
   },
   "outputs": [
    {
     "data": {
      "text/html": [
       "<div>\n",
       "<style scoped>\n",
       "    .dataframe tbody tr th:only-of-type {\n",
       "        vertical-align: middle;\n",
       "    }\n",
       "\n",
       "    .dataframe tbody tr th {\n",
       "        vertical-align: top;\n",
       "    }\n",
       "\n",
       "    .dataframe thead th {\n",
       "        text-align: right;\n",
       "    }\n",
       "</style>\n",
       "<table border=\"1\" class=\"dataframe\">\n",
       "  <thead>\n",
       "    <tr style=\"text-align: right;\">\n",
       "      <th></th>\n",
       "      <th>Unnamed: 0</th>\n",
       "      <th>type</th>\n",
       "      <th>category</th>\n",
       "      <th>review</th>\n",
       "      <th>star</th>\n",
       "      <th>date</th>\n",
       "      <th>option</th>\n",
       "      <th>0</th>\n",
       "      <th>1</th>\n",
       "      <th>2</th>\n",
       "      <th>3</th>\n",
       "    </tr>\n",
       "  </thead>\n",
       "  <tbody>\n",
       "    <tr>\n",
       "      <th>0</th>\n",
       "      <td>0</td>\n",
       "      <td>에이센트</td>\n",
       "      <td>별점</td>\n",
       "      <td>백합 튤립 장미향 좋아하시면\\n🌸무조건🌸⚘🌷🌼🌻🌹\\n\\n🍀그린에어리에여\\n제가 그린...</td>\n",
       "      <td>평점5</td>\n",
       "      <td>20.12.24.</td>\n",
       "      <td>디퓨저 선택: 실속리필200mlX2★특가 / 디퓨저 향기: 7)그린에어리Greena...</td>\n",
       "      <td>디퓨저 선택: 실속리필200mlX2★특가</td>\n",
       "      <td>디퓨저 향기: 7)그린에어리Greenairy X2</td>\n",
       "      <td>NaN</td>\n",
       "      <td>NaN</td>\n",
       "    </tr>\n",
       "    <tr>\n",
       "      <th>1</th>\n",
       "      <td>1</td>\n",
       "      <td>에이센트</td>\n",
       "      <td>별점</td>\n",
       "      <td>3개구매하면1개서비스로주신다구해서3개구매했어욥평소에디퓨저는백화점에서사서썼는데우연히에...</td>\n",
       "      <td>평점5</td>\n",
       "      <td>21.06.28.</td>\n",
       "      <td>디퓨저 선택: ☆실내본품200ml / 디퓨저 향기: 11)퍼플로즈(본품☆200ml)</td>\n",
       "      <td>디퓨저 선택: ☆실내본품200ml</td>\n",
       "      <td>디퓨저 향기: 11)퍼플로즈(본품☆200ml)</td>\n",
       "      <td>NaN</td>\n",
       "      <td>NaN</td>\n",
       "    </tr>\n",
       "    <tr>\n",
       "      <th>2</th>\n",
       "      <td>2</td>\n",
       "      <td>에이센트</td>\n",
       "      <td>별점</td>\n",
       "      <td>아니.....나 도대체 왜...이제서야 이 제품을 알게 된거죠?? 아니 왜 그동안 ...</td>\n",
       "      <td>평점5</td>\n",
       "      <td>20.12.01.</td>\n",
       "      <td>디퓨저 선택: 실내본품200ml / 디퓨저 향기: 7)그린에어리Greenairy</td>\n",
       "      <td>디퓨저 선택: 실내본품200ml</td>\n",
       "      <td>디퓨저 향기: 7)그린에어리Greenairy</td>\n",
       "      <td>NaN</td>\n",
       "      <td>NaN</td>\n",
       "    </tr>\n",
       "    <tr>\n",
       "      <th>3</th>\n",
       "      <td>3</td>\n",
       "      <td>에이센트</td>\n",
       "      <td>별점</td>\n",
       "      <td>“커피 한 잔이라도 하고 갈래?”\\n\\n차마 나는 이 말을 선뜻 그녀에게 건네지 못...</td>\n",
       "      <td>평점5</td>\n",
       "      <td>21.01.07.</td>\n",
       "      <td>디퓨저 선택: 실내본품200ml / 디퓨저 향기: 14)오션브리즈Oceanbreeze</td>\n",
       "      <td>디퓨저 선택: 실내본품200ml</td>\n",
       "      <td>디퓨저 향기: 14)오션브리즈Oceanbreeze</td>\n",
       "      <td>NaN</td>\n",
       "      <td>NaN</td>\n",
       "    </tr>\n",
       "    <tr>\n",
       "      <th>4</th>\n",
       "      <td>4</td>\n",
       "      <td>에이센트</td>\n",
       "      <td>별점</td>\n",
       "      <td>꽃집향을 너무 좋아해서 검색하다가 샀는데, 제품이 유리병이라 그런지 깨지지않게 단단...</td>\n",
       "      <td>평점5</td>\n",
       "      <td>21.04.21.</td>\n",
       "      <td>디퓨저 선택: ☆실내본품200ml / 디퓨저 향기: 5)런더리&amp;다우니Laundry&amp;...</td>\n",
       "      <td>디퓨저 선택: ☆실내본품200ml</td>\n",
       "      <td>디퓨저 향기: 5)런더리&amp;다우니Laundry&amp;Downy</td>\n",
       "      <td>NaN</td>\n",
       "      <td>NaN</td>\n",
       "    </tr>\n",
       "  </tbody>\n",
       "</table>\n",
       "</div>"
      ],
      "text/plain": [
       "   Unnamed: 0  type category  \\\n",
       "0           0  에이센트       별점   \n",
       "1           1  에이센트       별점   \n",
       "2           2  에이센트       별점   \n",
       "3           3  에이센트       별점   \n",
       "4           4  에이센트       별점   \n",
       "\n",
       "                                              review star       date  \\\n",
       "0  백합 튤립 장미향 좋아하시면\\n🌸무조건🌸⚘🌷🌼🌻🌹\\n\\n🍀그린에어리에여\\n제가 그린...  평점5  20.12.24.   \n",
       "1  3개구매하면1개서비스로주신다구해서3개구매했어욥평소에디퓨저는백화점에서사서썼는데우연히에...  평점5  21.06.28.   \n",
       "2  아니.....나 도대체 왜...이제서야 이 제품을 알게 된거죠?? 아니 왜 그동안 ...  평점5  20.12.01.   \n",
       "3  “커피 한 잔이라도 하고 갈래?”\\n\\n차마 나는 이 말을 선뜻 그녀에게 건네지 못...  평점5  21.01.07.   \n",
       "4  꽃집향을 너무 좋아해서 검색하다가 샀는데, 제품이 유리병이라 그런지 깨지지않게 단단...  평점5  21.04.21.   \n",
       "\n",
       "                                              option                        0  \\\n",
       "0  디퓨저 선택: 실속리필200mlX2★특가 / 디퓨저 향기: 7)그린에어리Greena...  디퓨저 선택: 실속리필200mlX2★특가    \n",
       "1     디퓨저 선택: ☆실내본품200ml / 디퓨저 향기: 11)퍼플로즈(본품☆200ml)      디퓨저 선택: ☆실내본품200ml    \n",
       "2       디퓨저 선택: 실내본품200ml / 디퓨저 향기: 7)그린에어리Greenairy       디퓨저 선택: 실내본품200ml    \n",
       "3    디퓨저 선택: 실내본품200ml / 디퓨저 향기: 14)오션브리즈Oceanbreeze       디퓨저 선택: 실내본품200ml    \n",
       "4  디퓨저 선택: ☆실내본품200ml / 디퓨저 향기: 5)런더리&다우니Laundry&...      디퓨저 선택: ☆실내본품200ml    \n",
       "\n",
       "                                 1    2    3  \n",
       "0      디퓨저 향기: 7)그린에어리Greenairy X2  NaN  NaN  \n",
       "1        디퓨저 향기: 11)퍼플로즈(본품☆200ml)  NaN  NaN  \n",
       "2         디퓨저 향기: 7)그린에어리Greenairy  NaN  NaN  \n",
       "3      디퓨저 향기: 14)오션브리즈Oceanbreeze  NaN  NaN  \n",
       "4   디퓨저 향기: 5)런더리&다우니Laundry&Downy  NaN  NaN  "
      ]
     },
     "execution_count": 3,
     "metadata": {},
     "output_type": "execute_result"
    }
   ],
   "source": [
    "df1 = pd.read_csv('에이센트_평점별리뷰.csv')\n",
    "df2 = pd.read_csv('헤오드_평점별리뷰.csv')\n",
    "df3 = pd.read_csv('헤트라스_평점별리뷰.csv')\n",
    "df4 = pd.read_csv('코코도르_평점별리뷰.csv')\n",
    "df5 = pd.read_csv('플로랑향기뿜뿜_평점별리뷰.csv')\n",
    "\n",
    "df1.head()"
   ]
  },
  {
   "cell_type": "code",
   "execution_count": 4,
   "id": "9582cd6e",
   "metadata": {},
   "outputs": [
    {
     "data": {
      "text/html": [
       "<div>\n",
       "<style scoped>\n",
       "    .dataframe tbody tr th:only-of-type {\n",
       "        vertical-align: middle;\n",
       "    }\n",
       "\n",
       "    .dataframe tbody tr th {\n",
       "        vertical-align: top;\n",
       "    }\n",
       "\n",
       "    .dataframe thead th {\n",
       "        text-align: right;\n",
       "    }\n",
       "</style>\n",
       "<table border=\"1\" class=\"dataframe\">\n",
       "  <thead>\n",
       "    <tr style=\"text-align: right;\">\n",
       "      <th></th>\n",
       "      <th>Unnamed: 0</th>\n",
       "      <th>type</th>\n",
       "      <th>category</th>\n",
       "      <th>review</th>\n",
       "      <th>star</th>\n",
       "      <th>date</th>\n",
       "      <th>option</th>\n",
       "      <th>0</th>\n",
       "      <th>1</th>\n",
       "      <th>2</th>\n",
       "      <th>3</th>\n",
       "      <th>4</th>\n",
       "      <th>5</th>\n",
       "      <th>6</th>\n",
       "      <th>7</th>\n",
       "      <th>8</th>\n",
       "    </tr>\n",
       "  </thead>\n",
       "  <tbody>\n",
       "    <tr>\n",
       "      <th>0</th>\n",
       "      <td>0</td>\n",
       "      <td>에이센트</td>\n",
       "      <td>별점</td>\n",
       "      <td>백합 튤립 장미향 좋아하시면\\n🌸무조건🌸⚘🌷🌼🌻🌹\\n\\n🍀그린에어리에여\\n제가 그린...</td>\n",
       "      <td>평점5</td>\n",
       "      <td>20.12.24.</td>\n",
       "      <td>디퓨저 선택: 실속리필200mlX2★특가 / 디퓨저 향기: 7)그린에어리Greena...</td>\n",
       "      <td>디퓨저 선택: 실속리필200mlX2★특가</td>\n",
       "      <td>디퓨저 향기: 7)그린에어리Greenairy X2</td>\n",
       "      <td>NaN</td>\n",
       "      <td>NaN</td>\n",
       "      <td>NaN</td>\n",
       "      <td>NaN</td>\n",
       "      <td>NaN</td>\n",
       "      <td>NaN</td>\n",
       "      <td>NaN</td>\n",
       "    </tr>\n",
       "    <tr>\n",
       "      <th>1</th>\n",
       "      <td>1</td>\n",
       "      <td>에이센트</td>\n",
       "      <td>별점</td>\n",
       "      <td>3개구매하면1개서비스로주신다구해서3개구매했어욥평소에디퓨저는백화점에서사서썼는데우연히에...</td>\n",
       "      <td>평점5</td>\n",
       "      <td>21.06.28.</td>\n",
       "      <td>디퓨저 선택: ☆실내본품200ml / 디퓨저 향기: 11)퍼플로즈(본품☆200ml)</td>\n",
       "      <td>디퓨저 선택: ☆실내본품200ml</td>\n",
       "      <td>디퓨저 향기: 11)퍼플로즈(본품☆200ml)</td>\n",
       "      <td>NaN</td>\n",
       "      <td>NaN</td>\n",
       "      <td>NaN</td>\n",
       "      <td>NaN</td>\n",
       "      <td>NaN</td>\n",
       "      <td>NaN</td>\n",
       "      <td>NaN</td>\n",
       "    </tr>\n",
       "    <tr>\n",
       "      <th>2</th>\n",
       "      <td>2</td>\n",
       "      <td>에이센트</td>\n",
       "      <td>별점</td>\n",
       "      <td>아니.....나 도대체 왜...이제서야 이 제품을 알게 된거죠?? 아니 왜 그동안 ...</td>\n",
       "      <td>평점5</td>\n",
       "      <td>20.12.01.</td>\n",
       "      <td>디퓨저 선택: 실내본품200ml / 디퓨저 향기: 7)그린에어리Greenairy</td>\n",
       "      <td>디퓨저 선택: 실내본품200ml</td>\n",
       "      <td>디퓨저 향기: 7)그린에어리Greenairy</td>\n",
       "      <td>NaN</td>\n",
       "      <td>NaN</td>\n",
       "      <td>NaN</td>\n",
       "      <td>NaN</td>\n",
       "      <td>NaN</td>\n",
       "      <td>NaN</td>\n",
       "      <td>NaN</td>\n",
       "    </tr>\n",
       "    <tr>\n",
       "      <th>3</th>\n",
       "      <td>3</td>\n",
       "      <td>에이센트</td>\n",
       "      <td>별점</td>\n",
       "      <td>“커피 한 잔이라도 하고 갈래?”\\n\\n차마 나는 이 말을 선뜻 그녀에게 건네지 못...</td>\n",
       "      <td>평점5</td>\n",
       "      <td>21.01.07.</td>\n",
       "      <td>디퓨저 선택: 실내본품200ml / 디퓨저 향기: 14)오션브리즈Oceanbreeze</td>\n",
       "      <td>디퓨저 선택: 실내본품200ml</td>\n",
       "      <td>디퓨저 향기: 14)오션브리즈Oceanbreeze</td>\n",
       "      <td>NaN</td>\n",
       "      <td>NaN</td>\n",
       "      <td>NaN</td>\n",
       "      <td>NaN</td>\n",
       "      <td>NaN</td>\n",
       "      <td>NaN</td>\n",
       "      <td>NaN</td>\n",
       "    </tr>\n",
       "    <tr>\n",
       "      <th>4</th>\n",
       "      <td>4</td>\n",
       "      <td>에이센트</td>\n",
       "      <td>별점</td>\n",
       "      <td>꽃집향을 너무 좋아해서 검색하다가 샀는데, 제품이 유리병이라 그런지 깨지지않게 단단...</td>\n",
       "      <td>평점5</td>\n",
       "      <td>21.04.21.</td>\n",
       "      <td>디퓨저 선택: ☆실내본품200ml / 디퓨저 향기: 5)런더리&amp;다우니Laundry&amp;...</td>\n",
       "      <td>디퓨저 선택: ☆실내본품200ml</td>\n",
       "      <td>디퓨저 향기: 5)런더리&amp;다우니Laundry&amp;Downy</td>\n",
       "      <td>NaN</td>\n",
       "      <td>NaN</td>\n",
       "      <td>NaN</td>\n",
       "      <td>NaN</td>\n",
       "      <td>NaN</td>\n",
       "      <td>NaN</td>\n",
       "      <td>NaN</td>\n",
       "    </tr>\n",
       "  </tbody>\n",
       "</table>\n",
       "</div>"
      ],
      "text/plain": [
       "   Unnamed: 0  type category  \\\n",
       "0           0  에이센트       별점   \n",
       "1           1  에이센트       별점   \n",
       "2           2  에이센트       별점   \n",
       "3           3  에이센트       별점   \n",
       "4           4  에이센트       별점   \n",
       "\n",
       "                                              review star       date  \\\n",
       "0  백합 튤립 장미향 좋아하시면\\n🌸무조건🌸⚘🌷🌼🌻🌹\\n\\n🍀그린에어리에여\\n제가 그린...  평점5  20.12.24.   \n",
       "1  3개구매하면1개서비스로주신다구해서3개구매했어욥평소에디퓨저는백화점에서사서썼는데우연히에...  평점5  21.06.28.   \n",
       "2  아니.....나 도대체 왜...이제서야 이 제품을 알게 된거죠?? 아니 왜 그동안 ...  평점5  20.12.01.   \n",
       "3  “커피 한 잔이라도 하고 갈래?”\\n\\n차마 나는 이 말을 선뜻 그녀에게 건네지 못...  평점5  21.01.07.   \n",
       "4  꽃집향을 너무 좋아해서 검색하다가 샀는데, 제품이 유리병이라 그런지 깨지지않게 단단...  평점5  21.04.21.   \n",
       "\n",
       "                                              option                        0  \\\n",
       "0  디퓨저 선택: 실속리필200mlX2★특가 / 디퓨저 향기: 7)그린에어리Greena...  디퓨저 선택: 실속리필200mlX2★특가    \n",
       "1     디퓨저 선택: ☆실내본품200ml / 디퓨저 향기: 11)퍼플로즈(본품☆200ml)      디퓨저 선택: ☆실내본품200ml    \n",
       "2       디퓨저 선택: 실내본품200ml / 디퓨저 향기: 7)그린에어리Greenairy       디퓨저 선택: 실내본품200ml    \n",
       "3    디퓨저 선택: 실내본품200ml / 디퓨저 향기: 14)오션브리즈Oceanbreeze       디퓨저 선택: 실내본품200ml    \n",
       "4  디퓨저 선택: ☆실내본품200ml / 디퓨저 향기: 5)런더리&다우니Laundry&...      디퓨저 선택: ☆실내본품200ml    \n",
       "\n",
       "                                 1    2    3    4    5    6    7    8  \n",
       "0      디퓨저 향기: 7)그린에어리Greenairy X2  NaN  NaN  NaN  NaN  NaN  NaN  NaN  \n",
       "1        디퓨저 향기: 11)퍼플로즈(본품☆200ml)  NaN  NaN  NaN  NaN  NaN  NaN  NaN  \n",
       "2         디퓨저 향기: 7)그린에어리Greenairy  NaN  NaN  NaN  NaN  NaN  NaN  NaN  \n",
       "3      디퓨저 향기: 14)오션브리즈Oceanbreeze  NaN  NaN  NaN  NaN  NaN  NaN  NaN  \n",
       "4   디퓨저 향기: 5)런더리&다우니Laundry&Downy  NaN  NaN  NaN  NaN  NaN  NaN  NaN  "
      ]
     },
     "execution_count": 4,
     "metadata": {},
     "output_type": "execute_result"
    }
   ],
   "source": [
    "# 데이터합치기\n",
    "df = pd.concat([df1,df2,df3,df4,df5])\n",
    "df.head()"
   ]
  },
  {
   "cell_type": "code",
   "execution_count": 5,
   "id": "c27bdff1",
   "metadata": {},
   "outputs": [
    {
     "data": {
      "text/plain": [
       "평점5    8150\n",
       "평점4    6078\n",
       "평점3    3696\n",
       "평점2     811\n",
       "평점1     784\n",
       "Name: star, dtype: int64"
      ]
     },
     "execution_count": 5,
     "metadata": {},
     "output_type": "execute_result"
    }
   ],
   "source": [
    "df['star'].value_counts()"
   ]
  },
  {
   "cell_type": "code",
   "execution_count": 6,
   "id": "bffad8ee",
   "metadata": {},
   "outputs": [
    {
     "data": {
      "text/plain": [
       "평점5    2007\n",
       "평점4    1639\n",
       "평점3    1567\n",
       "평점2     409\n",
       "평점1     325\n",
       "Name: star, dtype: int64"
      ]
     },
     "execution_count": 6,
     "metadata": {},
     "output_type": "execute_result"
    }
   ],
   "source": [
    "df1['star'].value_counts()"
   ]
  },
  {
   "cell_type": "code",
   "execution_count": 7,
   "id": "70d981eb",
   "metadata": {},
   "outputs": [
    {
     "data": {
      "text/plain": [
       "평점4    1673\n",
       "평점5    1550\n",
       "평점3     408\n",
       "평점2      39\n",
       "평점1       3\n",
       "Name: star, dtype: int64"
      ]
     },
     "execution_count": 7,
     "metadata": {},
     "output_type": "execute_result"
    }
   ],
   "source": [
    "df2['star'].value_counts()"
   ]
  },
  {
   "cell_type": "code",
   "execution_count": 8,
   "id": "e9e1865a",
   "metadata": {},
   "outputs": [
    {
     "data": {
      "text/plain": [
       "평점5    1135\n",
       "평점4     314\n",
       "평점3     189\n",
       "평점1      26\n",
       "평점2      20\n",
       "Name: star, dtype: int64"
      ]
     },
     "execution_count": 8,
     "metadata": {},
     "output_type": "execute_result"
    }
   ],
   "source": [
    "df3['star'].value_counts()"
   ]
  },
  {
   "cell_type": "code",
   "execution_count": 9,
   "id": "d86343f0",
   "metadata": {},
   "outputs": [
    {
     "data": {
      "text/plain": [
       "평점5    1620\n",
       "평점4    1529\n",
       "평점3    1154\n",
       "평점1     307\n",
       "평점2     249\n",
       "Name: star, dtype: int64"
      ]
     },
     "execution_count": 9,
     "metadata": {},
     "output_type": "execute_result"
    }
   ],
   "source": [
    "df4['star'].value_counts()"
   ]
  },
  {
   "cell_type": "code",
   "execution_count": 10,
   "id": "8c0aafaa",
   "metadata": {},
   "outputs": [
    {
     "data": {
      "text/plain": [
       "평점5    1838\n",
       "평점4     923\n",
       "평점3     378\n",
       "평점1     123\n",
       "평점2      94\n",
       "Name: star, dtype: int64"
      ]
     },
     "execution_count": 10,
     "metadata": {},
     "output_type": "execute_result"
    }
   ],
   "source": [
    "df5['star'].value_counts()"
   ]
  },
  {
   "cell_type": "code",
   "execution_count": 11,
   "id": "6038d6ee",
   "metadata": {},
   "outputs": [
    {
     "data": {
      "text/plain": [
       "(19519, 16)"
      ]
     },
     "execution_count": 11,
     "metadata": {},
     "output_type": "execute_result"
    }
   ],
   "source": [
    "df.shape"
   ]
  },
  {
   "cell_type": "code",
   "execution_count": 12,
   "id": "97ec98a2",
   "metadata": {},
   "outputs": [
    {
     "data": {
      "text/html": [
       "<div>\n",
       "<style scoped>\n",
       "    .dataframe tbody tr th:only-of-type {\n",
       "        vertical-align: middle;\n",
       "    }\n",
       "\n",
       "    .dataframe tbody tr th {\n",
       "        vertical-align: top;\n",
       "    }\n",
       "\n",
       "    .dataframe thead th {\n",
       "        text-align: right;\n",
       "    }\n",
       "</style>\n",
       "<table border=\"1\" class=\"dataframe\">\n",
       "  <thead>\n",
       "    <tr style=\"text-align: right;\">\n",
       "      <th></th>\n",
       "      <th>review</th>\n",
       "      <th>star</th>\n",
       "    </tr>\n",
       "  </thead>\n",
       "  <tbody>\n",
       "    <tr>\n",
       "      <th>0</th>\n",
       "      <td>백합 튤립 장미향 좋아하시면\\n🌸무조건🌸⚘🌷🌼🌻🌹\\n\\n🍀그린에어리에여\\n제가 그린...</td>\n",
       "      <td>평점5</td>\n",
       "    </tr>\n",
       "    <tr>\n",
       "      <th>1</th>\n",
       "      <td>3개구매하면1개서비스로주신다구해서3개구매했어욥평소에디퓨저는백화점에서사서썼는데우연히에...</td>\n",
       "      <td>평점5</td>\n",
       "    </tr>\n",
       "    <tr>\n",
       "      <th>2</th>\n",
       "      <td>아니.....나 도대체 왜...이제서야 이 제품을 알게 된거죠?? 아니 왜 그동안 ...</td>\n",
       "      <td>평점5</td>\n",
       "    </tr>\n",
       "    <tr>\n",
       "      <th>3</th>\n",
       "      <td>“커피 한 잔이라도 하고 갈래?”\\n\\n차마 나는 이 말을 선뜻 그녀에게 건네지 못...</td>\n",
       "      <td>평점5</td>\n",
       "    </tr>\n",
       "    <tr>\n",
       "      <th>4</th>\n",
       "      <td>꽃집향을 너무 좋아해서 검색하다가 샀는데, 제품이 유리병이라 그런지 깨지지않게 단단...</td>\n",
       "      <td>평점5</td>\n",
       "    </tr>\n",
       "    <tr>\n",
       "      <th>...</th>\n",
       "      <td>...</td>\n",
       "      <td>...</td>\n",
       "    </tr>\n",
       "    <tr>\n",
       "      <th>3351</th>\n",
       "      <td>냄새가 박카스냄새비슷하네요;; 다른향은 좋겟죠;;</td>\n",
       "      <td>평점1</td>\n",
       "    </tr>\n",
       "    <tr>\n",
       "      <th>3352</th>\n",
       "      <td>후기좋아서 풍자님믿고 구매했는데 제스탈은\\n아니네요 향두개 골고루샀는데 둘다…싼 향...</td>\n",
       "      <td>평점1</td>\n",
       "    </tr>\n",
       "    <tr>\n",
       "      <th>3353</th>\n",
       "      <td>광고를 너무해서 구매해봤는데 역시나..또 당했…\\n너무 하네…근처에서도 향이 느껴지...</td>\n",
       "      <td>평점1</td>\n",
       "    </tr>\n",
       "    <tr>\n",
       "      <th>3354</th>\n",
       "      <td>안방 하나 거실 하나 뒀고 한달도 안됐는데 저렇게 줄어있고 냄새 하나도 안 나용 풀...</td>\n",
       "      <td>평점1</td>\n",
       "    </tr>\n",
       "    <tr>\n",
       "      <th>3355</th>\n",
       "      <td>진짜 완전 별로 유투브 보고 산건데 진짜 후회 했어요</td>\n",
       "      <td>평점1</td>\n",
       "    </tr>\n",
       "  </tbody>\n",
       "</table>\n",
       "<p>19519 rows × 2 columns</p>\n",
       "</div>"
      ],
      "text/plain": [
       "                                                 review star\n",
       "0     백합 튤립 장미향 좋아하시면\\n🌸무조건🌸⚘🌷🌼🌻🌹\\n\\n🍀그린에어리에여\\n제가 그린...  평점5\n",
       "1     3개구매하면1개서비스로주신다구해서3개구매했어욥평소에디퓨저는백화점에서사서썼는데우연히에...  평점5\n",
       "2     아니.....나 도대체 왜...이제서야 이 제품을 알게 된거죠?? 아니 왜 그동안 ...  평점5\n",
       "3     “커피 한 잔이라도 하고 갈래?”\\n\\n차마 나는 이 말을 선뜻 그녀에게 건네지 못...  평점5\n",
       "4     꽃집향을 너무 좋아해서 검색하다가 샀는데, 제품이 유리병이라 그런지 깨지지않게 단단...  평점5\n",
       "...                                                 ...  ...\n",
       "3351                        냄새가 박카스냄새비슷하네요;; 다른향은 좋겟죠;;  평점1\n",
       "3352  후기좋아서 풍자님믿고 구매했는데 제스탈은\\n아니네요 향두개 골고루샀는데 둘다…싼 향...  평점1\n",
       "3353  광고를 너무해서 구매해봤는데 역시나..또 당했…\\n너무 하네…근처에서도 향이 느껴지...  평점1\n",
       "3354  안방 하나 거실 하나 뒀고 한달도 안됐는데 저렇게 줄어있고 냄새 하나도 안 나용 풀...  평점1\n",
       "3355                      진짜 완전 별로 유투브 보고 산건데 진짜 후회 했어요  평점1\n",
       "\n",
       "[19519 rows x 2 columns]"
      ]
     },
     "execution_count": 12,
     "metadata": {},
     "output_type": "execute_result"
    }
   ],
   "source": [
    "# 필요한 데이터만 보기\n",
    "df = df[['review','star']]\n",
    "df"
   ]
  },
  {
   "cell_type": "code",
   "execution_count": 13,
   "id": "17e686b3",
   "metadata": {},
   "outputs": [
    {
     "data": {
      "text/html": [
       "<div>\n",
       "<style scoped>\n",
       "    .dataframe tbody tr th:only-of-type {\n",
       "        vertical-align: middle;\n",
       "    }\n",
       "\n",
       "    .dataframe tbody tr th {\n",
       "        vertical-align: top;\n",
       "    }\n",
       "\n",
       "    .dataframe thead th {\n",
       "        text-align: right;\n",
       "    }\n",
       "</style>\n",
       "<table border=\"1\" class=\"dataframe\">\n",
       "  <thead>\n",
       "    <tr style=\"text-align: right;\">\n",
       "      <th></th>\n",
       "      <th>review</th>\n",
       "      <th>star</th>\n",
       "    </tr>\n",
       "  </thead>\n",
       "  <tbody>\n",
       "    <tr>\n",
       "      <th>0</th>\n",
       "      <td>백합 튤립 장미향 좋아하시면\\n🌸무조건🌸⚘🌷🌼🌻🌹\\n\\n🍀그린에어리에여\\n제가 그린...</td>\n",
       "      <td>평점5</td>\n",
       "    </tr>\n",
       "    <tr>\n",
       "      <th>1</th>\n",
       "      <td>3개구매하면1개서비스로주신다구해서3개구매했어욥평소에디퓨저는백화점에서사서썼는데우연히에...</td>\n",
       "      <td>평점5</td>\n",
       "    </tr>\n",
       "    <tr>\n",
       "      <th>2</th>\n",
       "      <td>아니.....나 도대체 왜...이제서야 이 제품을 알게 된거죠?? 아니 왜 그동안 ...</td>\n",
       "      <td>평점5</td>\n",
       "    </tr>\n",
       "    <tr>\n",
       "      <th>3</th>\n",
       "      <td>“커피 한 잔이라도 하고 갈래?”\\n\\n차마 나는 이 말을 선뜻 그녀에게 건네지 못...</td>\n",
       "      <td>평점5</td>\n",
       "    </tr>\n",
       "    <tr>\n",
       "      <th>4</th>\n",
       "      <td>꽃집향을 너무 좋아해서 검색하다가 샀는데, 제품이 유리병이라 그런지 깨지지않게 단단...</td>\n",
       "      <td>평점5</td>\n",
       "    </tr>\n",
       "    <tr>\n",
       "      <th>...</th>\n",
       "      <td>...</td>\n",
       "      <td>...</td>\n",
       "    </tr>\n",
       "    <tr>\n",
       "      <th>19514</th>\n",
       "      <td>냄새가 박카스냄새비슷하네요;; 다른향은 좋겟죠;;</td>\n",
       "      <td>평점1</td>\n",
       "    </tr>\n",
       "    <tr>\n",
       "      <th>19515</th>\n",
       "      <td>후기좋아서 풍자님믿고 구매했는데 제스탈은\\n아니네요 향두개 골고루샀는데 둘다…싼 향...</td>\n",
       "      <td>평점1</td>\n",
       "    </tr>\n",
       "    <tr>\n",
       "      <th>19516</th>\n",
       "      <td>광고를 너무해서 구매해봤는데 역시나..또 당했…\\n너무 하네…근처에서도 향이 느껴지...</td>\n",
       "      <td>평점1</td>\n",
       "    </tr>\n",
       "    <tr>\n",
       "      <th>19517</th>\n",
       "      <td>안방 하나 거실 하나 뒀고 한달도 안됐는데 저렇게 줄어있고 냄새 하나도 안 나용 풀...</td>\n",
       "      <td>평점1</td>\n",
       "    </tr>\n",
       "    <tr>\n",
       "      <th>19518</th>\n",
       "      <td>진짜 완전 별로 유투브 보고 산건데 진짜 후회 했어요</td>\n",
       "      <td>평점1</td>\n",
       "    </tr>\n",
       "  </tbody>\n",
       "</table>\n",
       "<p>19519 rows × 2 columns</p>\n",
       "</div>"
      ],
      "text/plain": [
       "                                                  review star\n",
       "0      백합 튤립 장미향 좋아하시면\\n🌸무조건🌸⚘🌷🌼🌻🌹\\n\\n🍀그린에어리에여\\n제가 그린...  평점5\n",
       "1      3개구매하면1개서비스로주신다구해서3개구매했어욥평소에디퓨저는백화점에서사서썼는데우연히에...  평점5\n",
       "2      아니.....나 도대체 왜...이제서야 이 제품을 알게 된거죠?? 아니 왜 그동안 ...  평점5\n",
       "3      “커피 한 잔이라도 하고 갈래?”\\n\\n차마 나는 이 말을 선뜻 그녀에게 건네지 못...  평점5\n",
       "4      꽃집향을 너무 좋아해서 검색하다가 샀는데, 제품이 유리병이라 그런지 깨지지않게 단단...  평점5\n",
       "...                                                  ...  ...\n",
       "19514                        냄새가 박카스냄새비슷하네요;; 다른향은 좋겟죠;;  평점1\n",
       "19515  후기좋아서 풍자님믿고 구매했는데 제스탈은\\n아니네요 향두개 골고루샀는데 둘다…싼 향...  평점1\n",
       "19516  광고를 너무해서 구매해봤는데 역시나..또 당했…\\n너무 하네…근처에서도 향이 느껴지...  평점1\n",
       "19517  안방 하나 거실 하나 뒀고 한달도 안됐는데 저렇게 줄어있고 냄새 하나도 안 나용 풀...  평점1\n",
       "19518                      진짜 완전 별로 유투브 보고 산건데 진짜 후회 했어요  평점1\n",
       "\n",
       "[19519 rows x 2 columns]"
      ]
     },
     "execution_count": 13,
     "metadata": {},
     "output_type": "execute_result"
    }
   ],
   "source": [
    "df = df.reset_index(drop=True)\n",
    "df"
   ]
  },
  {
   "cell_type": "code",
   "execution_count": 14,
   "id": "bb599d4b",
   "metadata": {
    "colab": {
     "base_uri": "https://localhost:8080/",
     "height": 424
    },
    "id": "bb599d4b",
    "outputId": "d77f3390-91a7-4f3f-fdb5-d0434d374798"
   },
   "outputs": [
    {
     "data": {
      "text/html": [
       "<div>\n",
       "<style scoped>\n",
       "    .dataframe tbody tr th:only-of-type {\n",
       "        vertical-align: middle;\n",
       "    }\n",
       "\n",
       "    .dataframe tbody tr th {\n",
       "        vertical-align: top;\n",
       "    }\n",
       "\n",
       "    .dataframe thead th {\n",
       "        text-align: right;\n",
       "    }\n",
       "</style>\n",
       "<table border=\"1\" class=\"dataframe\">\n",
       "  <thead>\n",
       "    <tr style=\"text-align: right;\">\n",
       "      <th></th>\n",
       "      <th>review</th>\n",
       "      <th>star</th>\n",
       "    </tr>\n",
       "  </thead>\n",
       "  <tbody>\n",
       "    <tr>\n",
       "      <th>0</th>\n",
       "      <td>백합 튤립 장미향 좋아하시면\\n🌸무조건🌸⚘🌷🌼🌻🌹\\n\\n🍀그린에어리에여\\n제가 그린...</td>\n",
       "      <td>평점5</td>\n",
       "    </tr>\n",
       "    <tr>\n",
       "      <th>1</th>\n",
       "      <td>3개구매하면1개서비스로주신다구해서3개구매했어욥평소에디퓨저는백화점에서사서썼는데우연히에...</td>\n",
       "      <td>평점5</td>\n",
       "    </tr>\n",
       "    <tr>\n",
       "      <th>2</th>\n",
       "      <td>아니.....나 도대체 왜...이제서야 이 제품을 알게 된거죠?? 아니 왜 그동안 ...</td>\n",
       "      <td>평점5</td>\n",
       "    </tr>\n",
       "    <tr>\n",
       "      <th>3</th>\n",
       "      <td>“커피 한 잔이라도 하고 갈래?”\\n\\n차마 나는 이 말을 선뜻 그녀에게 건네지 못...</td>\n",
       "      <td>평점5</td>\n",
       "    </tr>\n",
       "    <tr>\n",
       "      <th>4</th>\n",
       "      <td>꽃집향을 너무 좋아해서 검색하다가 샀는데, 제품이 유리병이라 그런지 깨지지않게 단단...</td>\n",
       "      <td>평점5</td>\n",
       "    </tr>\n",
       "    <tr>\n",
       "      <th>...</th>\n",
       "      <td>...</td>\n",
       "      <td>...</td>\n",
       "    </tr>\n",
       "    <tr>\n",
       "      <th>19514</th>\n",
       "      <td>냄새가 박카스냄새비슷하네요;; 다른향은 좋겟죠;;</td>\n",
       "      <td>평점1</td>\n",
       "    </tr>\n",
       "    <tr>\n",
       "      <th>19515</th>\n",
       "      <td>후기좋아서 풍자님믿고 구매했는데 제스탈은\\n아니네요 향두개 골고루샀는데 둘다…싼 향...</td>\n",
       "      <td>평점1</td>\n",
       "    </tr>\n",
       "    <tr>\n",
       "      <th>19516</th>\n",
       "      <td>광고를 너무해서 구매해봤는데 역시나..또 당했…\\n너무 하네…근처에서도 향이 느껴지...</td>\n",
       "      <td>평점1</td>\n",
       "    </tr>\n",
       "    <tr>\n",
       "      <th>19517</th>\n",
       "      <td>안방 하나 거실 하나 뒀고 한달도 안됐는데 저렇게 줄어있고 냄새 하나도 안 나용 풀...</td>\n",
       "      <td>평점1</td>\n",
       "    </tr>\n",
       "    <tr>\n",
       "      <th>19518</th>\n",
       "      <td>진짜 완전 별로 유투브 보고 산건데 진짜 후회 했어요</td>\n",
       "      <td>평점1</td>\n",
       "    </tr>\n",
       "  </tbody>\n",
       "</table>\n",
       "<p>19519 rows × 2 columns</p>\n",
       "</div>"
      ],
      "text/plain": [
       "                                                  review star\n",
       "0      백합 튤립 장미향 좋아하시면\\n🌸무조건🌸⚘🌷🌼🌻🌹\\n\\n🍀그린에어리에여\\n제가 그린...  평점5\n",
       "1      3개구매하면1개서비스로주신다구해서3개구매했어욥평소에디퓨저는백화점에서사서썼는데우연히에...  평점5\n",
       "2      아니.....나 도대체 왜...이제서야 이 제품을 알게 된거죠?? 아니 왜 그동안 ...  평점5\n",
       "3      “커피 한 잔이라도 하고 갈래?”\\n\\n차마 나는 이 말을 선뜻 그녀에게 건네지 못...  평점5\n",
       "4      꽃집향을 너무 좋아해서 검색하다가 샀는데, 제품이 유리병이라 그런지 깨지지않게 단단...  평점5\n",
       "...                                                  ...  ...\n",
       "19514                        냄새가 박카스냄새비슷하네요;; 다른향은 좋겟죠;;  평점1\n",
       "19515  후기좋아서 풍자님믿고 구매했는데 제스탈은\\n아니네요 향두개 골고루샀는데 둘다…싼 향...  평점1\n",
       "19516  광고를 너무해서 구매해봤는데 역시나..또 당했…\\n너무 하네…근처에서도 향이 느껴지...  평점1\n",
       "19517  안방 하나 거실 하나 뒀고 한달도 안됐는데 저렇게 줄어있고 냄새 하나도 안 나용 풀...  평점1\n",
       "19518                      진짜 완전 별로 유투브 보고 산건데 진짜 후회 했어요  평점1\n",
       "\n",
       "[19519 rows x 2 columns]"
      ]
     },
     "execution_count": 14,
     "metadata": {},
     "output_type": "execute_result"
    }
   ],
   "source": [
    "# 필요한 데이터만 보기\n",
    "df = df[['review','star']]\n",
    "df"
   ]
  },
  {
   "cell_type": "code",
   "execution_count": null,
   "id": "e4ff1336",
   "metadata": {},
   "outputs": [],
   "source": []
  },
  {
   "cell_type": "code",
   "execution_count": null,
   "id": "Wyty2L7GP3Ax",
   "metadata": {
    "id": "Wyty2L7GP3Ax"
   },
   "outputs": [],
   "source": []
  },
  {
   "cell_type": "code",
   "execution_count": null,
   "id": "su5LDpvLP3DK",
   "metadata": {
    "id": "su5LDpvLP3DK"
   },
   "outputs": [],
   "source": []
  },
  {
   "cell_type": "code",
   "execution_count": null,
   "id": "qxagb1mfP3Fd",
   "metadata": {
    "id": "qxagb1mfP3Fd"
   },
   "outputs": [],
   "source": []
  },
  {
   "cell_type": "code",
   "execution_count": null,
   "id": "_jnf4D9aP3IM",
   "metadata": {
    "id": "_jnf4D9aP3IM"
   },
   "outputs": [],
   "source": []
  },
  {
   "cell_type": "code",
   "execution_count": null,
   "id": "x6afJRgfP3Kt",
   "metadata": {
    "id": "x6afJRgfP3Kt"
   },
   "outputs": [],
   "source": []
  },
  {
   "cell_type": "code",
   "execution_count": null,
   "id": "f03bd07f",
   "metadata": {
    "id": "f03bd07f"
   },
   "outputs": [],
   "source": []
  }
 ],
 "metadata": {
  "colab": {
   "provenance": []
  },
  "kernelspec": {
   "display_name": "Python 3 (ipykernel)",
   "language": "python",
   "name": "python3"
  },
  "language_info": {
   "codemirror_mode": {
    "name": "ipython",
    "version": 3
   },
   "file_extension": ".py",
   "mimetype": "text/x-python",
   "name": "python",
   "nbconvert_exporter": "python",
   "pygments_lexer": "ipython3",
   "version": "3.8.2"
  }
 },
 "nbformat": 4,
 "nbformat_minor": 5
}
