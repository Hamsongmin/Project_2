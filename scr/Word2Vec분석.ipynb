{
  "cells": [
    {
      "cell_type": "code",
      "execution_count": 1,
      "id": "90cb0532",
      "metadata": {
        "colab": {
          "base_uri": "https://localhost:8080/"
        },
        "id": "90cb0532",
        "outputId": "f1bf0b4e-3317-4f78-a15d-c86680e5501d",
        "scrolled": true
      },
      "outputs": [
        {
          "output_type": "stream",
          "name": "stdout",
          "text": [
            "Looking in indexes: https://pypi.org/simple, https://us-python.pkg.dev/colab-wheels/public/simple/\n",
            "Collecting konlpy\n",
            "  Downloading konlpy-0.6.0-py2.py3-none-any.whl (19.4 MB)\n",
            "\u001b[K     |████████████████████████████████| 19.4 MB 326 kB/s \n",
            "\u001b[?25hCollecting JPype1>=0.7.0\n",
            "  Downloading JPype1-1.4.1-cp38-cp38-manylinux_2_12_x86_64.manylinux2010_x86_64.whl (465 kB)\n",
            "\u001b[K     |████████████████████████████████| 465 kB 38.2 MB/s \n",
            "\u001b[?25hRequirement already satisfied: numpy>=1.6 in /usr/local/lib/python3.8/dist-packages (from konlpy) (1.21.6)\n",
            "Requirement already satisfied: lxml>=4.1.0 in /usr/local/lib/python3.8/dist-packages (from konlpy) (4.9.1)\n",
            "Requirement already satisfied: packaging in /usr/local/lib/python3.8/dist-packages (from JPype1>=0.7.0->konlpy) (21.3)\n",
            "Requirement already satisfied: pyparsing!=3.0.5,>=2.0.2 in /usr/local/lib/python3.8/dist-packages (from packaging->JPype1>=0.7.0->konlpy) (3.0.9)\n",
            "Installing collected packages: JPype1, konlpy\n",
            "Successfully installed JPype1-1.4.1 konlpy-0.6.0\n",
            "Looking in indexes: https://pypi.org/simple, https://us-python.pkg.dev/colab-wheels/public/simple/\n",
            "Requirement already satisfied: lxml in /usr/local/lib/python3.8/dist-packages (4.9.1)\n",
            "Looking in indexes: https://pypi.org/simple, https://us-python.pkg.dev/colab-wheels/public/simple/\n",
            "Collecting utils\n",
            "  Downloading utils-1.0.1-py2.py3-none-any.whl (21 kB)\n",
            "Installing collected packages: utils\n",
            "Successfully installed utils-1.0.1\n",
            "Looking in indexes: https://pypi.org/simple, https://us-python.pkg.dev/colab-wheels/public/simple/\n",
            "Collecting paramiko\n",
            "  Downloading paramiko-2.12.0-py2.py3-none-any.whl (213 kB)\n",
            "\u001b[K     |████████████████████████████████| 213 kB 4.7 MB/s \n",
            "\u001b[?25hCollecting pynacl>=1.0.1\n",
            "  Downloading PyNaCl-1.5.0-cp36-abi3-manylinux_2_17_x86_64.manylinux2014_x86_64.manylinux_2_24_x86_64.whl (856 kB)\n",
            "\u001b[K     |████████████████████████████████| 856 kB 48.1 MB/s \n",
            "\u001b[?25hRequirement already satisfied: six in /usr/local/lib/python3.8/dist-packages (from paramiko) (1.15.0)\n",
            "Collecting bcrypt>=3.1.3\n",
            "  Downloading bcrypt-4.0.1-cp36-abi3-manylinux_2_24_x86_64.whl (593 kB)\n",
            "\u001b[K     |████████████████████████████████| 593 kB 39.6 MB/s \n",
            "\u001b[?25hCollecting cryptography>=2.5\n",
            "  Downloading cryptography-38.0.4-cp36-abi3-manylinux_2_24_x86_64.whl (4.0 MB)\n",
            "\u001b[K     |████████████████████████████████| 4.0 MB 50.0 MB/s \n",
            "\u001b[?25hRequirement already satisfied: cffi>=1.12 in /usr/local/lib/python3.8/dist-packages (from cryptography>=2.5->paramiko) (1.15.1)\n",
            "Requirement already satisfied: pycparser in /usr/local/lib/python3.8/dist-packages (from cffi>=1.12->cryptography>=2.5->paramiko) (2.21)\n",
            "Installing collected packages: pynacl, cryptography, bcrypt, paramiko\n",
            "Successfully installed bcrypt-4.0.1 cryptography-38.0.4 paramiko-2.12.0 pynacl-1.5.0\n",
            "Looking in indexes: https://pypi.org/simple, https://us-python.pkg.dev/colab-wheels/public/simple/\n",
            "Requirement already satisfied: nltk in /usr/local/lib/python3.8/dist-packages (3.7)\n",
            "Requirement already satisfied: click in /usr/local/lib/python3.8/dist-packages (from nltk) (7.1.2)\n",
            "Requirement already satisfied: tqdm in /usr/local/lib/python3.8/dist-packages (from nltk) (4.64.1)\n",
            "Requirement already satisfied: joblib in /usr/local/lib/python3.8/dist-packages (from nltk) (1.2.0)\n",
            "Requirement already satisfied: regex>=2021.8.3 in /usr/local/lib/python3.8/dist-packages (from nltk) (2022.6.2)\n",
            "Looking in indexes: https://pypi.org/simple, https://us-python.pkg.dev/colab-wheels/public/simple/\n",
            "\u001b[31mERROR: Could not find a version that satisfies the requirement genism (from versions: none)\u001b[0m\n",
            "\u001b[31mERROR: No matching distribution found for genism\u001b[0m\n",
            "Looking in indexes: https://pypi.org/simple, https://us-python.pkg.dev/colab-wheels/public/simple/\n",
            "Collecting Afinn\n",
            "  Downloading afinn-0.1.tar.gz (52 kB)\n",
            "\u001b[K     |████████████████████████████████| 52 kB 1.0 MB/s \n",
            "\u001b[?25hBuilding wheels for collected packages: Afinn\n",
            "  Building wheel for Afinn (setup.py) ... \u001b[?25l\u001b[?25hdone\n",
            "  Created wheel for Afinn: filename=afinn-0.1-py3-none-any.whl size=53447 sha256=a73d270e7c4cbf60122d8772f95a3359b941c56d6f01aaf5f79dab52df0a69e4\n",
            "  Stored in directory: /root/.cache/pip/wheels/f6/6f/c3/b305c5107a17618f2938a067d5ffcbb556909d82398762089e\n",
            "Successfully built Afinn\n",
            "Installing collected packages: Afinn\n",
            "Successfully installed Afinn-0.1\n"
          ]
        }
      ],
      "source": [
        "# Install\n",
        "!pip install konlpy\n",
        "\n",
        "!pip install lxml\n",
        "!pip install utils\n",
        "!pip install paramiko\n",
        "!pip install nltk\n",
        "!pip install -U genism\n",
        "!pip install Afinn"
      ]
    },
    {
      "cell_type": "code",
      "execution_count": 2,
      "id": "f0b9a36c",
      "metadata": {
        "id": "f0b9a36c"
      },
      "outputs": [],
      "source": [
        "import csv\n",
        "import pandas as pd\n",
        "import konlpy\n",
        "import sys\n",
        "import numpy as np\n",
        "from konlpy.tag import Okt\n",
        "from collections import Counter\n",
        "from wordcloud import STOPWORDS\n",
        "from wordcloud import WordCloud\n",
        "from IPython.display import Image\n",
        "import matplotlib.pyplot as plt"
      ]
    },
    {
      "cell_type": "code",
      "execution_count": 3,
      "id": "cmQsws-D38oW",
      "metadata": {
        "colab": {
          "base_uri": "https://localhost:8080/",
          "height": 213
        },
        "id": "cmQsws-D38oW",
        "outputId": "5abe4380-0592-4095-a4e0-b422d1345e2c"
      },
      "outputs": [
        {
          "output_type": "display_data",
          "data": {
            "text/plain": [
              "<IPython.core.display.HTML object>"
            ],
            "text/html": [
              "\n",
              "     <input type=\"file\" id=\"files-86b5b7cd-c1f6-461e-b22a-4752fecf95f3\" name=\"files[]\" multiple disabled\n",
              "        style=\"border:none\" />\n",
              "     <output id=\"result-86b5b7cd-c1f6-461e-b22a-4752fecf95f3\">\n",
              "      Upload widget is only available when the cell has been executed in the\n",
              "      current browser session. Please rerun this cell to enable.\n",
              "      </output>\n",
              "      <script>// Copyright 2017 Google LLC\n",
              "//\n",
              "// Licensed under the Apache License, Version 2.0 (the \"License\");\n",
              "// you may not use this file except in compliance with the License.\n",
              "// You may obtain a copy of the License at\n",
              "//\n",
              "//      http://www.apache.org/licenses/LICENSE-2.0\n",
              "//\n",
              "// Unless required by applicable law or agreed to in writing, software\n",
              "// distributed under the License is distributed on an \"AS IS\" BASIS,\n",
              "// WITHOUT WARRANTIES OR CONDITIONS OF ANY KIND, either express or implied.\n",
              "// See the License for the specific language governing permissions and\n",
              "// limitations under the License.\n",
              "\n",
              "/**\n",
              " * @fileoverview Helpers for google.colab Python module.\n",
              " */\n",
              "(function(scope) {\n",
              "function span(text, styleAttributes = {}) {\n",
              "  const element = document.createElement('span');\n",
              "  element.textContent = text;\n",
              "  for (const key of Object.keys(styleAttributes)) {\n",
              "    element.style[key] = styleAttributes[key];\n",
              "  }\n",
              "  return element;\n",
              "}\n",
              "\n",
              "// Max number of bytes which will be uploaded at a time.\n",
              "const MAX_PAYLOAD_SIZE = 100 * 1024;\n",
              "\n",
              "function _uploadFiles(inputId, outputId) {\n",
              "  const steps = uploadFilesStep(inputId, outputId);\n",
              "  const outputElement = document.getElementById(outputId);\n",
              "  // Cache steps on the outputElement to make it available for the next call\n",
              "  // to uploadFilesContinue from Python.\n",
              "  outputElement.steps = steps;\n",
              "\n",
              "  return _uploadFilesContinue(outputId);\n",
              "}\n",
              "\n",
              "// This is roughly an async generator (not supported in the browser yet),\n",
              "// where there are multiple asynchronous steps and the Python side is going\n",
              "// to poll for completion of each step.\n",
              "// This uses a Promise to block the python side on completion of each step,\n",
              "// then passes the result of the previous step as the input to the next step.\n",
              "function _uploadFilesContinue(outputId) {\n",
              "  const outputElement = document.getElementById(outputId);\n",
              "  const steps = outputElement.steps;\n",
              "\n",
              "  const next = steps.next(outputElement.lastPromiseValue);\n",
              "  return Promise.resolve(next.value.promise).then((value) => {\n",
              "    // Cache the last promise value to make it available to the next\n",
              "    // step of the generator.\n",
              "    outputElement.lastPromiseValue = value;\n",
              "    return next.value.response;\n",
              "  });\n",
              "}\n",
              "\n",
              "/**\n",
              " * Generator function which is called between each async step of the upload\n",
              " * process.\n",
              " * @param {string} inputId Element ID of the input file picker element.\n",
              " * @param {string} outputId Element ID of the output display.\n",
              " * @return {!Iterable<!Object>} Iterable of next steps.\n",
              " */\n",
              "function* uploadFilesStep(inputId, outputId) {\n",
              "  const inputElement = document.getElementById(inputId);\n",
              "  inputElement.disabled = false;\n",
              "\n",
              "  const outputElement = document.getElementById(outputId);\n",
              "  outputElement.innerHTML = '';\n",
              "\n",
              "  const pickedPromise = new Promise((resolve) => {\n",
              "    inputElement.addEventListener('change', (e) => {\n",
              "      resolve(e.target.files);\n",
              "    });\n",
              "  });\n",
              "\n",
              "  const cancel = document.createElement('button');\n",
              "  inputElement.parentElement.appendChild(cancel);\n",
              "  cancel.textContent = 'Cancel upload';\n",
              "  const cancelPromise = new Promise((resolve) => {\n",
              "    cancel.onclick = () => {\n",
              "      resolve(null);\n",
              "    };\n",
              "  });\n",
              "\n",
              "  // Wait for the user to pick the files.\n",
              "  const files = yield {\n",
              "    promise: Promise.race([pickedPromise, cancelPromise]),\n",
              "    response: {\n",
              "      action: 'starting',\n",
              "    }\n",
              "  };\n",
              "\n",
              "  cancel.remove();\n",
              "\n",
              "  // Disable the input element since further picks are not allowed.\n",
              "  inputElement.disabled = true;\n",
              "\n",
              "  if (!files) {\n",
              "    return {\n",
              "      response: {\n",
              "        action: 'complete',\n",
              "      }\n",
              "    };\n",
              "  }\n",
              "\n",
              "  for (const file of files) {\n",
              "    const li = document.createElement('li');\n",
              "    li.append(span(file.name, {fontWeight: 'bold'}));\n",
              "    li.append(span(\n",
              "        `(${file.type || 'n/a'}) - ${file.size} bytes, ` +\n",
              "        `last modified: ${\n",
              "            file.lastModifiedDate ? file.lastModifiedDate.toLocaleDateString() :\n",
              "                                    'n/a'} - `));\n",
              "    const percent = span('0% done');\n",
              "    li.appendChild(percent);\n",
              "\n",
              "    outputElement.appendChild(li);\n",
              "\n",
              "    const fileDataPromise = new Promise((resolve) => {\n",
              "      const reader = new FileReader();\n",
              "      reader.onload = (e) => {\n",
              "        resolve(e.target.result);\n",
              "      };\n",
              "      reader.readAsArrayBuffer(file);\n",
              "    });\n",
              "    // Wait for the data to be ready.\n",
              "    let fileData = yield {\n",
              "      promise: fileDataPromise,\n",
              "      response: {\n",
              "        action: 'continue',\n",
              "      }\n",
              "    };\n",
              "\n",
              "    // Use a chunked sending to avoid message size limits. See b/62115660.\n",
              "    let position = 0;\n",
              "    do {\n",
              "      const length = Math.min(fileData.byteLength - position, MAX_PAYLOAD_SIZE);\n",
              "      const chunk = new Uint8Array(fileData, position, length);\n",
              "      position += length;\n",
              "\n",
              "      const base64 = btoa(String.fromCharCode.apply(null, chunk));\n",
              "      yield {\n",
              "        response: {\n",
              "          action: 'append',\n",
              "          file: file.name,\n",
              "          data: base64,\n",
              "        },\n",
              "      };\n",
              "\n",
              "      let percentDone = fileData.byteLength === 0 ?\n",
              "          100 :\n",
              "          Math.round((position / fileData.byteLength) * 100);\n",
              "      percent.textContent = `${percentDone}% done`;\n",
              "\n",
              "    } while (position < fileData.byteLength);\n",
              "  }\n",
              "\n",
              "  // All done.\n",
              "  yield {\n",
              "    response: {\n",
              "      action: 'complete',\n",
              "    }\n",
              "  };\n",
              "}\n",
              "\n",
              "scope.google = scope.google || {};\n",
              "scope.google.colab = scope.google.colab || {};\n",
              "scope.google.colab._files = {\n",
              "  _uploadFiles,\n",
              "  _uploadFilesContinue,\n",
              "};\n",
              "})(self);\n",
              "</script> "
            ]
          },
          "metadata": {}
        },
        {
          "output_type": "stream",
          "name": "stdout",
          "text": [
            "Saving 에이센트_평점별리뷰.csv to 에이센트_평점별리뷰.csv\n",
            "Saving 플로랑향기뿜뿜_평점별리뷰.csv to 플로랑향기뿜뿜_평점별리뷰.csv\n",
            "Saving 코코도르_평점별리뷰.csv to 코코도르_평점별리뷰.csv\n",
            "Saving 헤오드_평점별리뷰.csv to 헤오드_평점별리뷰.csv\n",
            "Saving 헤트라스_평점별리뷰.csv to 헤트라스_평점별리뷰.csv\n"
          ]
        }
      ],
      "source": [
        "from google.colab import files\n",
        "files.upload()"
      ]
    },
    {
      "cell_type": "code",
      "execution_count": null,
      "id": "7d00100e",
      "metadata": {
        "id": "7d00100e"
      },
      "outputs": [],
      "source": [
        "df1 = pd.read_csv('에이센트_평점별리뷰.csv')\n",
        "df2 = pd.read_csv('헤오드_평점별리뷰.csv')\n",
        "df3 = pd.read_csv('헤트라스_평점별리뷰.csv')\n",
        "df4 = pd.read_csv('코코도르_평점별리뷰.csv')\n",
        "df5 = pd.read_csv('플로랑향기뿜뿜_평점별리뷰.csv')\n",
        "\n",
        "df1.head()"
      ]
    },
    {
      "cell_type": "code",
      "execution_count": null,
      "id": "b509ee83",
      "metadata": {
        "id": "b509ee83"
      },
      "outputs": [],
      "source": [
        "# 데이터합치기\n",
        "df = pd.concat([df1,df2,df3,df4,df5])\n",
        "df.head()"
      ]
    },
    {
      "cell_type": "code",
      "execution_count": null,
      "id": "bb599d4b",
      "metadata": {
        "id": "bb599d4b",
        "scrolled": true
      },
      "outputs": [],
      "source": [
        "# 필요한 데이터만 보기\n",
        "df = df[['review','star']]\n",
        "df"
      ]
    },
    {
      "cell_type": "code",
      "execution_count": null,
      "id": "46d7423f",
      "metadata": {
        "id": "46d7423f"
      },
      "outputs": [],
      "source": [
        "# 평점별로 나누기\n",
        "\n",
        "df5 = df[df['star'] == '평점5']\n",
        "df4 = df[df['star'] == '평점4']\n",
        "df3 = df[df['star'] == '평점3']\n",
        "df2 = df[df['star'] == '평점2']\n",
        "df1 = df[df['star'] == '평점1']\n",
        "\n",
        "df5.head()"
      ]
    },
    {
      "cell_type": "code",
      "execution_count": null,
      "id": "iaR46ncrQ_jK",
      "metadata": {
        "id": "iaR46ncrQ_jK"
      },
      "outputs": [],
      "source": [
        "# review 데이터만 보기\n",
        "df5 = df5[['review']]\n",
        "df4 = df4[['review']]\n",
        "df3 = df3[['review']]\n",
        "df2 = df2[['review']]\n",
        "df1 = df1[['review']]\n",
        "\n",
        "df5.head()"
      ]
    },
    {
      "cell_type": "markdown",
      "id": "lqlBC5rMB8ka",
      "metadata": {
        "id": "lqlBC5rMB8ka"
      },
      "source": [
        "\n",
        "\n",
        "---\n"
      ]
    },
    {
      "cell_type": "code",
      "execution_count": null,
      "id": "w1kNIXoxKAdN",
      "metadata": {
        "id": "w1kNIXoxKAdN"
      },
      "outputs": [],
      "source": [
        "import string\n",
        "import konlpy\n",
        "from konlpy.tag import Kkma, Komoran, Hannanum, Okt\n",
        "from konlpy.utils import pprint\n",
        "from konlpy.tag import Mecab\n",
        "from gensim.models import Word2Vec"
      ]
    },
    {
      "cell_type": "markdown",
      "id": "cO-8_2MkKwTe",
      "metadata": {
        "id": "cO-8_2MkKwTe"
      },
      "source": [
        "#1점\n"
      ]
    },
    {
      "cell_type": "code",
      "execution_count": null,
      "id": "63d2593b",
      "metadata": {
        "id": "63d2593b"
      },
      "outputs": [],
      "source": [
        "df1['review'] = df1['review'].apply(lambda x: ''.join([i for i in x if i not in string.punctuation]))\n",
        "\n",
        "okt = Okt()\n",
        "\n",
        "def nouns(x):\n",
        "    if len(str(x)) >=1:\n",
        "        nouns = okt.nouns(x)\n",
        "    else:\n",
        "        pass\n",
        "    return nouns\n",
        "\n",
        "df1['review'] = df1['review'].apply(lambda x: nouns(x))\n",
        "\n",
        "df1['review'].head(3)"
      ]
    },
    {
      "cell_type": "code",
      "source": [
        "model = Word2Vec(df1['review'], size=100, window=5, min_count=5, workers=8, sg=0)\n",
        "\n",
        "model_result0 = model.wv.most_similar(\"안나\")\n",
        "print(model_result0)"
      ],
      "metadata": {
        "colab": {
          "base_uri": "https://localhost:8080/"
        },
        "id": "LQKs6k4GfmkJ",
        "outputId": "82a14f5d-0f13-4226-8f89-87fa904968f2"
      },
      "id": "LQKs6k4GfmkJ",
      "execution_count": 56,
      "outputs": [
        {
          "output_type": "stream",
          "name": "stderr",
          "text": [
            "WARNING:gensim.models.base_any2vec:under 10 jobs per worker: consider setting a smaller `batch_words' for smoother alpha decay\n"
          ]
        },
        {
          "output_type": "stream",
          "name": "stdout",
          "text": [
            "[('향', 0.9997442960739136), ('스틱', 0.999723494052887), ('구매', 0.9997110962867737), ('거실', 0.9996940493583679), ('냄새', 0.9996914863586426), ('제품', 0.9996901750564575), ('하나', 0.999687671661377), ('발향', 0.9996863603591919), ('제', 0.999653697013855), ('개', 0.9996435046195984)]\n"
          ]
        }
      ]
    },
    {
      "cell_type": "code",
      "source": [
        "model = Word2Vec(df1['review'], size=100, window=5, min_count=5, workers=8, sg=0)\n",
        "\n",
        "model_result0 = model.wv.most_similar(\"머리\")\n",
        "print(model_result0)"
      ],
      "metadata": {
        "colab": {
          "base_uri": "https://localhost:8080/"
        },
        "id": "7ZD7TqLyfm7V",
        "outputId": "745e24ca-b499-41ce-e192-2b04ff7b2863"
      },
      "id": "7ZD7TqLyfm7V",
      "execution_count": 57,
      "outputs": [
        {
          "output_type": "stream",
          "name": "stderr",
          "text": [
            "WARNING:gensim.models.base_any2vec:under 10 jobs per worker: consider setting a smaller `batch_words' for smoother alpha decay\n"
          ]
        },
        {
          "output_type": "stream",
          "name": "stdout",
          "text": [
            "[('냄새', 0.9996306300163269), ('제품', 0.999575138092041), ('스틱', 0.9995717406272888), ('거실', 0.9995684623718262), ('향', 0.9995570182800293), ('배송', 0.9995561838150024), ('구매', 0.999550461769104), ('주문', 0.9995410442352295), ('다른', 0.9995396137237549), ('개', 0.9995340704917908)]\n"
          ]
        }
      ]
    },
    {
      "cell_type": "code",
      "source": [
        "model = Word2Vec(df1['review'], size=100, window=5, min_count=5, workers=8, sg=0)\n",
        "\n",
        "model_result0 = model.wv.most_similar(\"별로\")\n",
        "print(model_result0)"
      ],
      "metadata": {
        "colab": {
          "base_uri": "https://localhost:8080/"
        },
        "id": "tOCy4SN4fnE4",
        "outputId": "8d6268a0-8056-4bcf-ccc9-bd7a80fc8fe8"
      },
      "id": "tOCy4SN4fnE4",
      "execution_count": 58,
      "outputs": [
        {
          "output_type": "stream",
          "name": "stderr",
          "text": [
            "WARNING:gensim.models.base_any2vec:under 10 jobs per worker: consider setting a smaller `batch_words' for smoother alpha decay\n"
          ]
        },
        {
          "output_type": "stream",
          "name": "stdout",
          "text": [
            "[('향', 0.999599814414978), ('그냥', 0.9995550513267517), ('구매', 0.9995498657226562), ('냄새', 0.9995347261428833), ('코', 0.9995265603065491), ('리뷰', 0.9995056986808777), ('이', 0.9994938373565674), ('주문', 0.999487042427063), ('배송', 0.9994757771492004), ('스틱', 0.999475359916687)]\n"
          ]
        }
      ]
    },
    {
      "cell_type": "code",
      "source": [
        "model = Word2Vec(df1['review'], size=100, window=5, min_count=5, workers=8, sg=0)\n",
        "\n",
        "model_result0 = model.wv.most_similar(\"진짜\")\n",
        "print(model_result0)"
      ],
      "metadata": {
        "colab": {
          "base_uri": "https://localhost:8080/"
        },
        "id": "1PTk47WLfnM7",
        "outputId": "ead4c353-6da7-40d2-8c5a-33eb784702ec"
      },
      "id": "1PTk47WLfnM7",
      "execution_count": 59,
      "outputs": [
        {
          "output_type": "stream",
          "name": "stderr",
          "text": [
            "WARNING:gensim.models.base_any2vec:under 10 jobs per worker: consider setting a smaller `batch_words' for smoother alpha decay\n"
          ]
        },
        {
          "output_type": "stream",
          "name": "stdout",
          "text": [
            "[('향', 0.9997707009315491), ('하나', 0.999729573726654), ('냄새', 0.9997263550758362), ('디', 0.9997173547744751), ('제품', 0.9997170567512512), ('구매', 0.9997165203094482), ('스틱', 0.9997162818908691), ('리뷰', 0.9996945261955261), ('개', 0.9996862411499023), ('제', 0.9996852874755859)]\n"
          ]
        }
      ]
    },
    {
      "cell_type": "code",
      "source": [
        "model = Word2Vec(df1['review'], size=100, window=5, min_count=5, workers=8, sg=0)\n",
        "\n",
        "model_result0 = model.wv.most_similar(\"그냥\")\n",
        "print(model_result0)"
      ],
      "metadata": {
        "colab": {
          "base_uri": "https://localhost:8080/"
        },
        "id": "vnrQ26tBfnS7",
        "outputId": "75e2f918-c245-4466-8b44-4d93114f9e74"
      },
      "id": "vnrQ26tBfnS7",
      "execution_count": 60,
      "outputs": [
        {
          "output_type": "stream",
          "name": "stderr",
          "text": [
            "WARNING:gensim.models.base_any2vec:under 10 jobs per worker: consider setting a smaller `batch_words' for smoother alpha decay\n"
          ]
        },
        {
          "output_type": "stream",
          "name": "stdout",
          "text": [
            "[('향', 0.9997769594192505), ('냄새', 0.9997692108154297), ('개', 0.9997649192810059), ('집', 0.9997321963310242), ('구매', 0.9997212886810303), ('제', 0.9997204542160034), ('코', 0.9997174739837646), ('다시', 0.9997165203094482), ('하나', 0.9997081160545349), ('리뷰', 0.9997066855430603)]\n"
          ]
        }
      ]
    },
    {
      "cell_type": "code",
      "source": [
        "model = Word2Vec(df1['review'], size=100, window=5, min_count=5, workers=8, sg=0)\n",
        "\n",
        "model_result0 = model.wv.most_similar(\"리뷰\")\n",
        "print(model_result0)"
      ],
      "metadata": {
        "colab": {
          "base_uri": "https://localhost:8080/"
        },
        "id": "hgvXOq7VfnYo",
        "outputId": "452434c0-1c24-4c9e-f170-f8960c7f134a"
      },
      "id": "hgvXOq7VfnYo",
      "execution_count": 61,
      "outputs": [
        {
          "output_type": "stream",
          "name": "stderr",
          "text": [
            "WARNING:gensim.models.base_any2vec:under 10 jobs per worker: consider setting a smaller `batch_words' for smoother alpha decay\n"
          ]
        },
        {
          "output_type": "stream",
          "name": "stdout",
          "text": [
            "[('향', 0.9997739195823669), ('퓨저', 0.9997430443763733), ('주문', 0.9997373819351196), ('제품', 0.9997329711914062), ('냄새', 0.9997326731681824), ('개', 0.9997190237045288), ('그냥', 0.9997065663337708), ('추천', 0.99970543384552), ('스틱', 0.9997019171714783), ('제', 0.9997008442878723)]\n"
          ]
        }
      ]
    },
    {
      "cell_type": "code",
      "source": [
        "model = Word2Vec(df1['review'], size=100, window=5, min_count=5, workers=8, sg=0)\n",
        "\n",
        "model_result0 = model.wv.most_similar(\"생각\")\n",
        "print(model_result0)"
      ],
      "metadata": {
        "colab": {
          "base_uri": "https://localhost:8080/"
        },
        "id": "W1WiBpmffnex",
        "outputId": "3a7a961d-de16-43a3-8dd0-c1fcff5339f3"
      },
      "id": "W1WiBpmffnex",
      "execution_count": 62,
      "outputs": [
        {
          "output_type": "stream",
          "name": "stderr",
          "text": [
            "WARNING:gensim.models.base_any2vec:under 10 jobs per worker: consider setting a smaller `batch_words' for smoother alpha decay\n"
          ]
        },
        {
          "output_type": "stream",
          "name": "stdout",
          "text": [
            "[('냄새', 0.999634861946106), ('향', 0.9996281862258911), ('화장실', 0.9996175169944763), ('스틱', 0.9995881915092468), ('퓨저', 0.9995853304862976), ('개', 0.9995839595794678), ('디', 0.9995698928833008), ('사용', 0.9995687007904053), ('주문', 0.9995616674423218), ('이', 0.9995602965354919)]\n"
          ]
        }
      ]
    },
    {
      "cell_type": "code",
      "source": [
        "model = Word2Vec(df1['review'], size=100, window=5, min_count=5, workers=8, sg=0)\n",
        "\n",
        "model_result0 = model.wv.most_similar(\"전혀\")\n",
        "print(model_result0)"
      ],
      "metadata": {
        "colab": {
          "base_uri": "https://localhost:8080/"
        },
        "id": "0DyF7qHgfnoL",
        "outputId": "0ac443f9-310b-4730-c960-84e96545eabd"
      },
      "id": "0DyF7qHgfnoL",
      "execution_count": 63,
      "outputs": [
        {
          "output_type": "stream",
          "name": "stderr",
          "text": [
            "WARNING:gensim.models.base_any2vec:under 10 jobs per worker: consider setting a smaller `batch_words' for smoother alpha decay\n"
          ]
        },
        {
          "output_type": "stream",
          "name": "stdout",
          "text": [
            "[('향', 0.9997444152832031), ('제품', 0.9996992349624634), ('스틱', 0.9996893405914307), ('냄새', 0.9996857643127441), ('제', 0.9996737837791443), ('퓨저', 0.9996588826179504), ('진짜', 0.9996566772460938), ('디', 0.9996534585952759), ('구매', 0.9996507167816162), ('개', 0.9996400475502014)]\n"
          ]
        }
      ]
    },
    {
      "cell_type": "code",
      "source": [
        "model = Word2Vec(df1['review'], size=100, window=5, min_count=5, workers=8, sg=0)\n",
        "\n",
        "model_result0 = model.wv.most_similar(\"실망\")\n",
        "print(model_result0)"
      ],
      "metadata": {
        "colab": {
          "base_uri": "https://localhost:8080/"
        },
        "id": "h8RG_ivwfnvO",
        "outputId": "d3f1bfeb-8a99-4e82-dfcd-8f31e7ea70ae"
      },
      "id": "h8RG_ivwfnvO",
      "execution_count": 64,
      "outputs": [
        {
          "output_type": "stream",
          "name": "stderr",
          "text": [
            "WARNING:gensim.models.base_any2vec:under 10 jobs per worker: consider setting a smaller `batch_words' for smoother alpha decay\n"
          ]
        },
        {
          "output_type": "stream",
          "name": "stdout",
          "text": [
            "[('향', 0.9997283816337585), ('개', 0.9996799826622009), ('주문', 0.9996684193611145), ('스틱', 0.9996567964553833), ('디', 0.9996477961540222), ('냄새', 0.9996359348297119), ('그냥', 0.9996321797370911), ('택배', 0.999629557132721), ('다시', 0.9996281266212463), ('하나', 0.9996113777160645)]\n"
          ]
        }
      ]
    },
    {
      "cell_type": "code",
      "source": [
        "model = Word2Vec(df1['review'], size=100, window=5, min_count=5, workers=8, sg=0)\n",
        "\n",
        "model_result0 = model.wv.most_similar(\"다른\")\n",
        "print(model_result0)"
      ],
      "metadata": {
        "colab": {
          "base_uri": "https://localhost:8080/"
        },
        "id": "pnNRa187fn29",
        "outputId": "9549fd5f-502d-413f-fe23-28df8b8c09ca"
      },
      "id": "pnNRa187fn29",
      "execution_count": 65,
      "outputs": [
        {
          "output_type": "stream",
          "name": "stderr",
          "text": [
            "WARNING:gensim.models.base_any2vec:under 10 jobs per worker: consider setting a smaller `batch_words' for smoother alpha decay\n"
          ]
        },
        {
          "output_type": "stream",
          "name": "stdout",
          "text": [
            "[('향', 0.9997209906578064), ('스틱', 0.9997199773788452), ('제품', 0.999714732170105), ('디', 0.9996948838233948), ('냄새', 0.9996864795684814), ('개', 0.9996765851974487), ('발향', 0.9996631741523743), ('제', 0.9996628165245056), ('거실', 0.9996562004089355), ('하나', 0.9996411204338074)]\n"
          ]
        }
      ]
    },
    {
      "cell_type": "markdown",
      "id": "mzsfxoBMK0Yi",
      "metadata": {
        "id": "mzsfxoBMK0Yi"
      },
      "source": [
        "#2점"
      ]
    },
    {
      "cell_type": "code",
      "execution_count": 13,
      "id": "b2c58981",
      "metadata": {
        "colab": {
          "base_uri": "https://localhost:8080/"
        },
        "id": "b2c58981",
        "outputId": "eafc6410-861a-4b43-c305-47a9ee100f88"
      },
      "outputs": [
        {
          "output_type": "execute_result",
          "data": {
            "text/plain": [
              "5212    [포레스트, 워, 향, 진짜, 전, 구매, 때, 에어리, 던, 처, 솝, 구매, 이...\n",
              "5213    [원래, 디퓨져, 제, 사용, 주문, 일단, 향, 단조, 계속, 향, 사람, 두통,...\n",
              "5214    [자, 후기, 보고, 가지, 구입, 각자, 취향, 글, 보고, 인, 센스, 우드, ...\n",
              "Name: review, dtype: object"
            ]
          },
          "metadata": {},
          "execution_count": 13
        }
      ],
      "source": [
        "df2['review'] = df2['review'].apply(lambda x: ''.join([i for i in x if i not in string.punctuation]))\n",
        "\n",
        "okt = Okt()\n",
        "\n",
        "def nouns(x):\n",
        "    if len(str(x)) >=1:\n",
        "        nouns = okt.nouns(x)\n",
        "    else:\n",
        "        pass\n",
        "    return nouns\n",
        "\n",
        "df2['review'] = df2['review'].apply(lambda x: nouns(x))\n",
        "\n",
        "df2['review'].head(3)"
      ]
    },
    {
      "cell_type": "code",
      "source": [
        "model = Word2Vec(df2['review'], size=100, window=5, min_count=5, workers=8, sg=0)\n",
        "\n",
        "model_result0 = model.wv.most_similar(\"안나\")\n",
        "print(model_result0)"
      ],
      "metadata": {
        "colab": {
          "base_uri": "https://localhost:8080/"
        },
        "id": "C7ssL2NofZnx",
        "outputId": "0dfc3c2a-2fb5-480a-d292-6f9629345b51"
      },
      "id": "C7ssL2NofZnx",
      "execution_count": 66,
      "outputs": [
        {
          "output_type": "stream",
          "name": "stderr",
          "text": [
            "WARNING:gensim.models.base_any2vec:under 10 jobs per worker: consider setting a smaller `batch_words' for smoother alpha decay\n"
          ]
        },
        {
          "output_type": "stream",
          "name": "stdout",
          "text": [
            "[('향', 0.9994007349014282), ('스틱', 0.9993333220481873), ('발향', 0.9993016123771667), ('구매', 0.9992333054542542), ('개', 0.9992254376411438), ('저', 0.999161422252655), ('제품', 0.999143660068512), ('하나', 0.9990994930267334), ('그린', 0.9990835189819336), ('전', 0.9990805387496948)]\n"
          ]
        }
      ]
    },
    {
      "cell_type": "code",
      "source": [
        "model = Word2Vec(df2['review'], size=100, window=5, min_count=5, workers=8, sg=0)\n",
        "\n",
        "model_result0 = model.wv.most_similar(\"생각\")\n",
        "print(model_result0)"
      ],
      "metadata": {
        "colab": {
          "base_uri": "https://localhost:8080/"
        },
        "id": "kHZRGV4RfZsq",
        "outputId": "9c3dd569-c325-4551-f0c1-888ecd6dfaf9"
      },
      "id": "kHZRGV4RfZsq",
      "execution_count": 67,
      "outputs": [
        {
          "output_type": "stream",
          "name": "stderr",
          "text": [
            "WARNING:gensim.models.base_any2vec:under 10 jobs per worker: consider setting a smaller `batch_words' for smoother alpha decay\n"
          ]
        },
        {
          "output_type": "stream",
          "name": "stdout",
          "text": [
            "[('향', 0.9990500211715698), ('개', 0.9989562034606934), ('스틱', 0.9989343285560608), ('화장실', 0.9989086389541626), ('냄새', 0.9988614916801453), ('사용', 0.9988168478012085), ('퓨저', 0.9988070130348206), ('도', 0.9987971782684326), ('발향', 0.9987639784812927), ('느낌', 0.9987354278564453)]\n"
          ]
        }
      ]
    },
    {
      "cell_type": "code",
      "source": [
        "model = Word2Vec(df2['review'], size=100, window=5, min_count=5, workers=8, sg=0)\n",
        "\n",
        "model_result0 = model.wv.most_similar(\"별로\")\n",
        "print(model_result0)"
      ],
      "metadata": {
        "colab": {
          "base_uri": "https://localhost:8080/"
        },
        "id": "cDPKUn0FfZwW",
        "outputId": "538bd8c4-bf0b-4ea3-88ce-f4e52666b7d2"
      },
      "id": "cDPKUn0FfZwW",
      "execution_count": 68,
      "outputs": [
        {
          "output_type": "stream",
          "name": "stderr",
          "text": [
            "WARNING:gensim.models.base_any2vec:under 10 jobs per worker: consider setting a smaller `batch_words' for smoother alpha decay\n"
          ]
        },
        {
          "output_type": "stream",
          "name": "stdout",
          "text": [
            "[('향', 0.998887300491333), ('구매', 0.9986910223960876), ('개', 0.9986357688903809), ('코', 0.9986188411712646), ('좀', 0.9986125826835632), ('그냥', 0.9985979795455933), ('스틱', 0.9985851645469666), ('냄새', 0.998569905757904), ('비누', 0.9985693693161011), ('또', 0.9985588788986206)]\n"
          ]
        }
      ]
    },
    {
      "cell_type": "code",
      "source": [
        "model = Word2Vec(df2['review'], size=100, window=5, min_count=5, workers=8, sg=0)\n",
        "\n",
        "model_result0 = model.wv.most_similar(\"머리\")\n",
        "print(model_result0)"
      ],
      "metadata": {
        "colab": {
          "base_uri": "https://localhost:8080/"
        },
        "id": "tYHHBXEPfZ2F",
        "outputId": "4d6ff626-8fe7-4cf1-d7c0-21ec37a743ec"
      },
      "id": "tYHHBXEPfZ2F",
      "execution_count": 69,
      "outputs": [
        {
          "output_type": "stream",
          "name": "stderr",
          "text": [
            "WARNING:gensim.models.base_any2vec:under 10 jobs per worker: consider setting a smaller `batch_words' for smoother alpha decay\n"
          ]
        },
        {
          "output_type": "stream",
          "name": "stdout",
          "text": [
            "[('향', 0.999055027961731), ('스틱', 0.999047577381134), ('냄새', 0.9990404844284058), ('개', 0.9989835023880005), ('제품', 0.9989515542984009), ('구매', 0.9989140033721924), ('체리', 0.9988920092582703), ('안나', 0.9988745450973511), ('향기', 0.9988619685173035), ('발향', 0.9988609552383423)]\n"
          ]
        }
      ]
    },
    {
      "cell_type": "code",
      "source": [
        "model = Word2Vec(df2['review'], size=100, window=5, min_count=5, workers=8, sg=0)\n",
        "\n",
        "model_result0 = model.wv.most_similar(\"처음\")\n",
        "print(model_result0)"
      ],
      "metadata": {
        "colab": {
          "base_uri": "https://localhost:8080/"
        },
        "id": "Rwx-qPW9fZ5P",
        "outputId": "2f27c526-7bb7-46c1-9b52-9850c721bcc8"
      },
      "id": "Rwx-qPW9fZ5P",
      "execution_count": 70,
      "outputs": [
        {
          "output_type": "stream",
          "name": "stderr",
          "text": [
            "WARNING:gensim.models.base_any2vec:under 10 jobs per worker: consider setting a smaller `batch_words' for smoother alpha decay\n"
          ]
        },
        {
          "output_type": "stream",
          "name": "stdout",
          "text": [
            "[('향', 0.9990980625152588), ('디', 0.9990038871765137), ('때', 0.998931348323822), ('하나', 0.998931348323822), ('개', 0.9989086389541626), ('제품', 0.9988766312599182), ('구매', 0.9988563060760498), ('향기', 0.9988517761230469), ('발향', 0.9988430142402649), ('퓨저', 0.9987976551055908)]\n"
          ]
        }
      ]
    },
    {
      "cell_type": "code",
      "source": [
        "model = Word2Vec(df2['review'], size=100, window=5, min_count=5, workers=8, sg=0)\n",
        "\n",
        "model_result0 = model.wv.most_similar(\"그냥\")\n",
        "print(model_result0)"
      ],
      "metadata": {
        "colab": {
          "base_uri": "https://localhost:8080/"
        },
        "id": "fc8mjx5PfZ82",
        "outputId": "e63d17e6-c126-43be-8298-a5697ec811e9"
      },
      "id": "fc8mjx5PfZ82",
      "execution_count": 71,
      "outputs": [
        {
          "output_type": "stream",
          "name": "stderr",
          "text": [
            "WARNING:gensim.models.base_any2vec:under 10 jobs per worker: consider setting a smaller `batch_words' for smoother alpha decay\n"
          ]
        },
        {
          "output_type": "stream",
          "name": "stdout",
          "text": [
            "[('개', 0.9993423223495483), ('향', 0.999336838722229), ('발향', 0.9991738200187683), ('구매', 0.999131441116333), ('스틱', 0.9991288185119629), ('냄새', 0.9991176724433899), ('전', 0.9991022348403931), ('저', 0.9990582466125488), ('집', 0.9990570545196533), ('정도', 0.9990527629852295)]\n"
          ]
        }
      ]
    },
    {
      "cell_type": "code",
      "source": [
        "model = Word2Vec(df2['review'], size=100, window=5, min_count=5, workers=8, sg=0)\n",
        "\n",
        "model_result0 = model.wv.most_similar(\"실망\")\n",
        "print(model_result0)"
      ],
      "metadata": {
        "colab": {
          "base_uri": "https://localhost:8080/"
        },
        "id": "5pvJQY77faBA",
        "outputId": "6a5c383b-fc71-432f-ae46-c937de84ce1f"
      },
      "id": "5pvJQY77faBA",
      "execution_count": 72,
      "outputs": [
        {
          "output_type": "stream",
          "name": "stderr",
          "text": [
            "WARNING:gensim.models.base_any2vec:under 10 jobs per worker: consider setting a smaller `batch_words' for smoother alpha decay\n"
          ]
        },
        {
          "output_type": "stream",
          "name": "stdout",
          "text": [
            "[('향', 0.9992521405220032), ('개', 0.9991631507873535), ('스틱', 0.999059796333313), ('발향', 0.9990096688270569), ('디', 0.998951256275177), ('퓨저', 0.9988738298416138), ('그냥', 0.9988544583320618), ('좀', 0.9988505840301514), ('화장실', 0.9988418221473694), ('코', 0.9988185167312622)]\n"
          ]
        }
      ]
    },
    {
      "cell_type": "markdown",
      "id": "jAI4QgTrPvyw",
      "metadata": {
        "id": "jAI4QgTrPvyw"
      },
      "source": [
        "#3점"
      ]
    },
    {
      "cell_type": "code",
      "execution_count": 14,
      "id": "IJgV0HbPP4MJ",
      "metadata": {
        "colab": {
          "base_uri": "https://localhost:8080/"
        },
        "id": "IJgV0HbPP4MJ",
        "outputId": "bda41526-28ce-42f8-83b8-1bb51eaafbf6"
      },
      "outputs": [
        {
          "output_type": "execute_result",
          "data": {
            "text/plain": [
              "3644    [저, 향기, 예민, 한편, 평소, 꽃향, 가든, 향, 비누, 향, 인터넷, 구매,...\n",
              "3645    [저, 오션, 브리즈, 이름, 키, 캔들, 크샌드, 바마, 브리즈, 생각, 그, 달...\n",
              "3646    [제, 하루, 종일, 문, 향, 처음처럼, 그린, 에어리, 향, 최고, 그린, 에어...\n",
              "Name: review, dtype: object"
            ]
          },
          "metadata": {},
          "execution_count": 14
        }
      ],
      "source": [
        "df3['review'] = df3['review'].apply(lambda x: ''.join([i for i in x if i not in string.punctuation]))\n",
        "\n",
        "okt = Okt()\n",
        "\n",
        "def nouns(x):\n",
        "    if len(str(x)) >=1:\n",
        "        nouns = okt.nouns(x)\n",
        "    else:\n",
        "        pass\n",
        "    return nouns\n",
        "\n",
        "df3['review'] = df3['review'].apply(lambda x: nouns(x))\n",
        "\n",
        "df3['review'].head(3)"
      ]
    },
    {
      "cell_type": "code",
      "source": [
        "model = Word2Vec(df3['review'], size=100, window=5, min_count=5, workers=8, sg=0)\n",
        "\n",
        "model_result0 = model.wv.most_similar(\"생각\")\n",
        "print(model_result0)"
      ],
      "metadata": {
        "colab": {
          "base_uri": "https://localhost:8080/"
        },
        "id": "S7HNbupCfPY2",
        "outputId": "3466067f-e0c3-42a1-a036-0186bf941fda"
      },
      "id": "S7HNbupCfPY2",
      "execution_count": 73,
      "outputs": [
        {
          "output_type": "stream",
          "name": "stderr",
          "text": [
            "WARNING:gensim.models.base_any2vec:under 10 jobs per worker: consider setting a smaller `batch_words' for smoother alpha decay\n"
          ]
        },
        {
          "output_type": "stream",
          "name": "stdout",
          "text": [
            "[('듯', 0.9998907446861267), ('사용', 0.9998895525932312), ('느낌', 0.9998891353607178), ('화장실', 0.999887228012085), ('배송', 0.999887228012085), ('그', 0.9998791813850403), ('거', 0.9998770356178284), ('약간', 0.9998742341995239), ('나', 0.9998733997344971), ('저', 0.9998723268508911)]\n"
          ]
        }
      ]
    },
    {
      "cell_type": "code",
      "source": [
        "model = Word2Vec(df3['review'], size=100, window=5, min_count=5, workers=8, sg=0)\n",
        "\n",
        "model_result0 = model.wv.most_similar(\"스틱\")\n",
        "print(model_result0)"
      ],
      "metadata": {
        "colab": {
          "base_uri": "https://localhost:8080/"
        },
        "id": "2Vql0VGwfPoL",
        "outputId": "380e74d8-bfc4-405b-a8b5-827b7c4c8423"
      },
      "id": "2Vql0VGwfPoL",
      "execution_count": 74,
      "outputs": [
        {
          "output_type": "stream",
          "name": "stderr",
          "text": [
            "WARNING:gensim.models.base_any2vec:under 10 jobs per worker: consider setting a smaller `batch_words' for smoother alpha decay\n"
          ]
        },
        {
          "output_type": "stream",
          "name": "stdout",
          "text": [
            "[('꽃', 0.9999016523361206), ('발향', 0.999890923500061), ('다른', 0.9998903274536133), ('안나', 0.9998894333839417), ('거실', 0.99988853931427), ('사용', 0.9998852610588074), ('거', 0.9998843669891357), ('개', 0.9998817443847656), ('코', 0.9998799562454224), ('안', 0.9998788833618164)]\n"
          ]
        }
      ]
    },
    {
      "cell_type": "code",
      "source": [
        "model = Word2Vec(df3['review'], size=100, window=5, min_count=5, workers=8, sg=0)\n",
        "\n",
        "model_result0 = model.wv.most_similar(\"배송\")\n",
        "print(model_result0)"
      ],
      "metadata": {
        "colab": {
          "base_uri": "https://localhost:8080/"
        },
        "id": "BhfNtiJBfPwC",
        "outputId": "da29a078-5620-4995-d1dd-517975fc2857"
      },
      "id": "BhfNtiJBfPwC",
      "execution_count": 75,
      "outputs": [
        {
          "output_type": "stream",
          "name": "stderr",
          "text": [
            "WARNING:gensim.models.base_any2vec:under 10 jobs per worker: consider setting a smaller `batch_words' for smoother alpha decay\n"
          ]
        },
        {
          "output_type": "stream",
          "name": "stdout",
          "text": [
            "[('주문', 0.9999164938926697), ('상품', 0.9999151229858398), ('것', 0.999914288520813), ('제품', 0.9999131560325623), ('향기', 0.9999083280563354), ('그', 0.9999076724052429), ('선택', 0.9999072551727295), ('꽃', 0.9999066591262817), ('구매', 0.9999020099639893), ('약간', 0.9998977780342102)]\n"
          ]
        }
      ]
    },
    {
      "cell_type": "code",
      "source": [
        "model = Word2Vec(df3['review'], size=100, window=5, min_count=5, workers=8, sg=0)\n",
        "\n",
        "model_result0 = model.wv.most_similar(\"처음\")\n",
        "print(model_result0)"
      ],
      "metadata": {
        "colab": {
          "base_uri": "https://localhost:8080/"
        },
        "id": "A8CYMpWsfP2-",
        "outputId": "99c2d251-1cdc-4059-ad63-3868f2877439"
      },
      "id": "A8CYMpWsfP2-",
      "execution_count": 76,
      "outputs": [
        {
          "output_type": "stream",
          "name": "stderr",
          "text": [
            "WARNING:gensim.models.base_any2vec:under 10 jobs per worker: consider setting a smaller `batch_words' for smoother alpha decay\n"
          ]
        },
        {
          "output_type": "stream",
          "name": "stdout",
          "text": [
            "[('뚜껑', 0.9998896718025208), ('때', 0.9998825192451477), ('안나', 0.9998729228973389), ('제품', 0.9998683929443359), ('코', 0.9998674392700195), ('향기', 0.9998655319213867), ('발향', 0.9998638033866882), ('꽃', 0.9998632073402405), ('달', 0.9998612403869629), ('기분', 0.9998607039451599)]\n"
          ]
        }
      ]
    },
    {
      "cell_type": "code",
      "source": [
        "model = Word2Vec(df3['review'], size=100, window=5, min_count=5, workers=8, sg=0)\n",
        "\n",
        "model_result0 = model.wv.most_similar(\"안나\")\n",
        "print(model_result0)"
      ],
      "metadata": {
        "colab": {
          "base_uri": "https://localhost:8080/"
        },
        "id": "DRrwKqrCfP61",
        "outputId": "c94f827b-9183-4c7a-931a-25d5fa92d56a"
      },
      "id": "DRrwKqrCfP61",
      "execution_count": 77,
      "outputs": [
        {
          "output_type": "stream",
          "name": "stderr",
          "text": [
            "WARNING:gensim.models.base_any2vec:under 10 jobs per worker: consider setting a smaller `batch_words' for smoother alpha decay\n"
          ]
        },
        {
          "output_type": "stream",
          "name": "stdout",
          "text": [
            "[('발향', 0.9998955130577087), ('거실', 0.9998931884765625), ('그', 0.999880313873291), ('달', 0.9998749494552612), ('스틱', 0.9998739957809448), ('현관', 0.9998714923858643), ('구매', 0.9998703002929688), ('다른', 0.9998695254325867), ('꽃', 0.9998691082000732), ('사용', 0.9998689293861389)]\n"
          ]
        }
      ]
    },
    {
      "cell_type": "code",
      "source": [
        "model = Word2Vec(df3['review'], size=100, window=5, min_count=5, workers=8, sg=0)\n",
        "\n",
        "model_result0 = model.wv.most_similar(\"별로\")\n",
        "print(model_result0)"
      ],
      "metadata": {
        "colab": {
          "base_uri": "https://localhost:8080/"
        },
        "id": "w8FmzsXhfP-H",
        "outputId": "c3ce698d-fa1d-40ae-d923-c32800f512bb"
      },
      "id": "w8FmzsXhfP-H",
      "execution_count": 78,
      "outputs": [
        {
          "output_type": "stream",
          "name": "stderr",
          "text": [
            "WARNING:gensim.models.base_any2vec:under 10 jobs per worker: consider setting a smaller `batch_words' for smoother alpha decay\n"
          ]
        },
        {
          "output_type": "stream",
          "name": "stdout",
          "text": [
            "[('비누', 0.9998766779899597), ('코', 0.9998672604560852), ('그냥', 0.9998658299446106), ('구매', 0.9998650550842285), ('정말', 0.9998645782470703), ('것', 0.999860942363739), ('저', 0.9998573660850525), ('좀', 0.999855637550354), ('느낌', 0.9998539686203003), ('냄새', 0.9998529553413391)]\n"
          ]
        }
      ]
    },
    {
      "cell_type": "code",
      "source": [
        "model = Word2Vec(df3['review'], size=100, window=5, min_count=5, workers=8, sg=0)\n",
        "\n",
        "model_result0 = model.wv.most_similar(\"그냥\")\n",
        "print(model_result0)"
      ],
      "metadata": {
        "colab": {
          "base_uri": "https://localhost:8080/"
        },
        "id": "D3204C5dfQDk",
        "outputId": "38cd2011-f57c-43b4-9a71-92089ae11d02"
      },
      "id": "D3204C5dfQDk",
      "execution_count": 79,
      "outputs": [
        {
          "output_type": "stream",
          "name": "stderr",
          "text": [
            "WARNING:gensim.models.base_any2vec:under 10 jobs per worker: consider setting a smaller `batch_words' for smoother alpha decay\n"
          ]
        },
        {
          "output_type": "stream",
          "name": "stdout",
          "text": [
            "[('코', 0.9998981356620789), ('집', 0.9998973608016968), ('정도', 0.999895453453064), ('구매', 0.999894380569458), ('배송', 0.999893844127655), ('때', 0.9998900890350342), ('저', 0.9998849630355835), ('화장실', 0.9998834133148193), ('주문', 0.9998815059661865), ('꽃', 0.999880850315094)]\n"
          ]
        }
      ]
    },
    {
      "cell_type": "code",
      "source": [
        "model = Word2Vec(df3['review'], size=100, window=5, min_count=5, workers=8, sg=0)\n",
        "\n",
        "model_result0 = model.wv.most_similar(\"다른\")\n",
        "print(model_result0)"
      ],
      "metadata": {
        "colab": {
          "base_uri": "https://localhost:8080/"
        },
        "id": "ZphkGBSSfQGg",
        "outputId": "cf2c5ae7-499e-4155-9b23-c94075add39d"
      },
      "id": "ZphkGBSSfQGg",
      "execution_count": 80,
      "outputs": [
        {
          "output_type": "stream",
          "name": "stderr",
          "text": [
            "WARNING:gensim.models.base_any2vec:under 10 jobs per worker: consider setting a smaller `batch_words' for smoother alpha decay\n"
          ]
        },
        {
          "output_type": "stream",
          "name": "stdout",
          "text": [
            "[('거실', 0.9999095797538757), ('요', 0.9999016523361206), ('스틱', 0.9999005794525146), ('꽃', 0.9999003410339355), ('제품', 0.9998975396156311), ('안나', 0.9998915195465088), ('때', 0.9998900890350342), ('배송', 0.9998889565467834), ('그', 0.9998882412910461), ('구매', 0.9998881220817566)]\n"
          ]
        }
      ]
    },
    {
      "cell_type": "code",
      "source": [
        "model = Word2Vec(df3['review'], size=100, window=5, min_count=5, workers=8, sg=0)\n",
        "\n",
        "model_result0 = model.wv.most_similar(\"취향\")\n",
        "print(model_result0)"
      ],
      "metadata": {
        "colab": {
          "base_uri": "https://localhost:8080/"
        },
        "id": "p7tigpGJfQJl",
        "outputId": "078dcfb2-b3e3-405e-d91c-be95722b1b26"
      },
      "id": "p7tigpGJfQJl",
      "execution_count": 81,
      "outputs": [
        {
          "output_type": "stream",
          "name": "stderr",
          "text": [
            "WARNING:gensim.models.base_any2vec:under 10 jobs per worker: consider setting a smaller `batch_words' for smoother alpha decay\n"
          ]
        },
        {
          "output_type": "stream",
          "name": "stdout",
          "text": [
            "[('상품', 0.9998873472213745), ('그', 0.9998663663864136), ('저', 0.999864399433136), ('선택', 0.9998555779457092), ('라벤더', 0.9998534321784973), ('지속', 0.999849796295166), ('정말', 0.999847948551178), ('주문', 0.9998478889465332), ('구매', 0.9998478293418884), ('배송', 0.9998459219932556)]\n"
          ]
        }
      ]
    },
    {
      "cell_type": "markdown",
      "id": "a0TDwUfzPynM",
      "metadata": {
        "id": "a0TDwUfzPynM"
      },
      "source": [
        "#4점"
      ]
    },
    {
      "cell_type": "code",
      "execution_count": 15,
      "id": "Q4Xqj4yvP5IW",
      "metadata": {
        "colab": {
          "base_uri": "https://localhost:8080/"
        },
        "id": "Q4Xqj4yvP5IW",
        "outputId": "376ff4df-2b18-4763-acb8-f976ab7454a2"
      },
      "outputs": [
        {
          "output_type": "execute_result",
          "data": {
            "text/plain": [
              "2004    [에이, 센트, 판매, 분, 센스, 정말, 것, 주문, 때, 선물, 꾸러미, 오픈,...\n",
              "2005    [처, 솝샤워, 후, 냄새, 도브향, 비슷, 손, 손, 기분, 그린, 에어리, 꽃,...\n",
              "2006    [에이, 센트, 판매, 분, 센스, 정말, 것, 주문, 때, 선물, 꾸러미, 오픈,...\n",
              "Name: review, dtype: object"
            ]
          },
          "metadata": {},
          "execution_count": 15
        }
      ],
      "source": [
        "df4['review'] = df4['review'].apply(lambda x: ''.join([i for i in x if i not in string.punctuation]))\n",
        "\n",
        "okt = Okt()\n",
        "\n",
        "def nouns(x):\n",
        "    if len(str(x)) >=1:\n",
        "        nouns = okt.nouns(x)\n",
        "    else:\n",
        "        pass\n",
        "    return nouns\n",
        "\n",
        "df4['review'] = df4['review'].apply(lambda x: nouns(x))\n",
        "\n",
        "df4['review'].head(3)"
      ]
    },
    {
      "cell_type": "code",
      "source": [
        "model = Word2Vec(df4['review'], size=100, window=5, min_count=5, workers=8, sg=0)\n",
        "\n",
        "model_result0 = model.wv.most_similar(\"냄새\")\n",
        "print(model_result0)"
      ],
      "metadata": {
        "colab": {
          "base_uri": "https://localhost:8080/"
        },
        "id": "ttl0BBKQfBbl",
        "outputId": "b510c93b-7647-45a9-a1af-9d5b07270ced"
      },
      "id": "ttl0BBKQfBbl",
      "execution_count": 82,
      "outputs": [
        {
          "output_type": "stream",
          "name": "stderr",
          "text": [
            "WARNING:gensim.models.base_any2vec:under 10 jobs per worker: consider setting a smaller `batch_words' for smoother alpha decay\n"
          ]
        },
        {
          "output_type": "stream",
          "name": "stdout",
          "text": [
            "[('향기', 0.9995725750923157), ('풀', 0.9995248317718506), ('생화', 0.9994839429855347), ('가면', 0.9994748830795288), ('나', 0.9994603395462036), ('요', 0.9994406700134277), ('그대로', 0.9994287490844727), ('꽃향', 0.9994044303894043), ('방안', 0.9993692636489868), ('그', 0.9993650317192078)]\n"
          ]
        }
      ]
    },
    {
      "cell_type": "code",
      "source": [
        "model = Word2Vec(df4['review'], size=100, window=5, min_count=5, workers=8, sg=0)\n",
        "\n",
        "model_result0 = model.wv.most_similar(\"발향\")\n",
        "print(model_result0)"
      ],
      "metadata": {
        "colab": {
          "base_uri": "https://localhost:8080/"
        },
        "id": "qfMHIc6ofBfC",
        "outputId": "9c667125-bce9-4f8e-cf33-842bd8962ea3"
      },
      "id": "qfMHIc6ofBfC",
      "execution_count": 83,
      "outputs": [
        {
          "output_type": "stream",
          "name": "stderr",
          "text": [
            "WARNING:gensim.models.base_any2vec:under 10 jobs per worker: consider setting a smaller `batch_words' for smoother alpha decay\n"
          ]
        },
        {
          "output_type": "stream",
          "name": "stdout",
          "text": [
            "[('안나', 0.9996696710586548), ('정도', 0.9996584057807922), ('머리', 0.9996135234832764), ('첨', 0.9995704889297485), ('공간', 0.9995700120925903), ('확', 0.9995037317276001), ('시간', 0.9995012283325195), ('달', 0.9994945526123047), ('지속', 0.9994887709617615), ('일주일', 0.9994849562644958)]\n"
          ]
        }
      ]
    },
    {
      "cell_type": "code",
      "source": [
        "model = Word2Vec(df4['review'], size=100, window=5, min_count=5, workers=8, sg=0)\n",
        "\n",
        "model_result0 = model.wv.most_similar(\"배송\")\n",
        "print(model_result0)"
      ],
      "metadata": {
        "colab": {
          "base_uri": "https://localhost:8080/"
        },
        "id": "y-SSr3SsfBsz",
        "outputId": "8e16eeff-ba52-4cbc-fe25-d58fb31c9040"
      },
      "id": "y-SSr3SsfBsz",
      "execution_count": 84,
      "outputs": [
        {
          "output_type": "stream",
          "name": "stderr",
          "text": [
            "WARNING:gensim.models.base_any2vec:under 10 jobs per worker: consider setting a smaller `batch_words' for smoother alpha decay\n"
          ]
        },
        {
          "output_type": "stream",
          "name": "stdout",
          "text": [
            "[('상태', 0.9996752738952637), ('박스', 0.9996209144592285), ('제품', 0.9995100498199463), ('신경', 0.9994832277297974), ('항상', 0.9994537830352783), ('다만', 0.9994462728500366), ('유리', 0.9994141459465027), ('디자인', 0.9993590712547302), ('만족', 0.9993516802787781), ('점', 0.9993442296981812)]\n"
          ]
        }
      ]
    },
    {
      "cell_type": "code",
      "source": [
        "model = Word2Vec(df4['review'], size=100, window=5, min_count=5, workers=8, sg=0)\n",
        "\n",
        "model_result0 = model.wv.most_similar(\"생각\")\n",
        "print(model_result0)"
      ],
      "metadata": {
        "colab": {
          "base_uri": "https://localhost:8080/"
        },
        "id": "nTi4xv3cfBx-",
        "outputId": "2936eb54-48e6-42c0-bb39-70f78c0477a5"
      },
      "id": "nTi4xv3cfBx-",
      "execution_count": 85,
      "outputs": [
        {
          "output_type": "stream",
          "name": "stderr",
          "text": [
            "WARNING:gensim.models.base_any2vec:under 10 jobs per worker: consider setting a smaller `batch_words' for smoother alpha decay\n"
          ]
        },
        {
          "output_type": "stream",
          "name": "stdout",
          "text": [
            "[('라벤더', 0.9996827244758606), ('자체', 0.9996127486228943), ('프레', 0.9996071457862854), ('은', 0.9995930194854736), ('뭔가', 0.9995691776275635), ('쉬', 0.999555766582489), ('단', 0.999555230140686), ('걱정', 0.9995511770248413), ('유칼립투스', 0.9995509386062622), ('보', 0.9995506405830383)]\n"
          ]
        }
      ]
    },
    {
      "cell_type": "code",
      "source": [
        "model = Word2Vec(df4['review'], size=100, window=5, min_count=5, workers=8, sg=0)\n",
        "\n",
        "model_result0 = model.wv.most_similar(\"화장실\")\n",
        "print(model_result0)"
      ],
      "metadata": {
        "colab": {
          "base_uri": "https://localhost:8080/"
        },
        "id": "Ry0fualvfB45",
        "outputId": "6bdfc27e-0d89-4af3-eef5-a885be6e51d7"
      },
      "id": "Ry0fualvfB45",
      "execution_count": 86,
      "outputs": [
        {
          "output_type": "stream",
          "name": "stderr",
          "text": [
            "WARNING:gensim.models.base_any2vec:under 10 jobs per worker: consider setting a smaller `batch_words' for smoother alpha decay\n"
          ]
        },
        {
          "output_type": "stream",
          "name": "stdout",
          "text": [
            "[('방', 0.9996424913406372), ('안나', 0.9995269775390625), ('문', 0.9994816184043884), ('첨', 0.9994739890098572), ('머리', 0.9994532465934753), ('가까이', 0.99945068359375), ('안방', 0.9994322061538696), ('공간', 0.999431848526001), ('현관', 0.9994052648544312), ('확', 0.9993951320648193)]\n"
          ]
        }
      ]
    },
    {
      "cell_type": "code",
      "source": [
        "model = Word2Vec(df4['review'], size=100, window=5, min_count=5, workers=8, sg=0)\n",
        "\n",
        "model_result0 = model.wv.most_similar(\"선물\")\n",
        "print(model_result0)"
      ],
      "metadata": {
        "colab": {
          "base_uri": "https://localhost:8080/"
        },
        "id": "9jZsovktfB-c",
        "outputId": "aedb06ef-6423-4920-c86a-2754ee88a96a"
      },
      "id": "9jZsovktfB-c",
      "execution_count": 87,
      "outputs": [
        {
          "output_type": "stream",
          "name": "stderr",
          "text": [
            "WARNING:gensim.models.base_any2vec:under 10 jobs per worker: consider setting a smaller `batch_words' for smoother alpha decay\n"
          ]
        },
        {
          "output_type": "stream",
          "name": "stdout",
          "text": [
            "[('제품', 0.998935878276825), ('포장', 0.9988278746604919), ('배송', 0.9987081289291382), ('박스', 0.9986340999603271), ('용', 0.9985165596008301), ('또', 0.9984894394874573), ('유리', 0.9981926679611206), ('상태', 0.9981708526611328), ('항상', 0.9981297254562378), ('쇼핑', 0.998062789440155)]\n"
          ]
        }
      ]
    },
    {
      "cell_type": "code",
      "source": [
        "model = Word2Vec(df4['review'], size=100, window=5, min_count=5, workers=8, sg=0)\n",
        "\n",
        "model_result0 = model.wv.most_similar(\"가격\")\n",
        "print(model_result0)"
      ],
      "metadata": {
        "colab": {
          "base_uri": "https://localhost:8080/"
        },
        "id": "YjUOfPoVfCEV",
        "outputId": "d825e7ef-dcd4-4448-d08d-c41012209ce9"
      },
      "id": "YjUOfPoVfCEV",
      "execution_count": 88,
      "outputs": [
        {
          "output_type": "stream",
          "name": "stderr",
          "text": [
            "WARNING:gensim.models.base_any2vec:under 10 jobs per worker: consider setting a smaller `batch_words' for smoother alpha decay\n"
          ]
        },
        {
          "output_type": "stream",
          "name": "stdout",
          "text": [
            "[('용량', 0.9990953207015991), ('제품', 0.9989935159683228), ('다만', 0.9988110065460205), ('배송', 0.9987421631813049), ('다른', 0.9986603856086731), ('지속', 0.998653769493103), ('항상', 0.998611330986023), ('앞', 0.9985242486000061), ('브랜드', 0.9985212087631226), ('점', 0.9985076189041138)]\n"
          ]
        }
      ]
    },
    {
      "cell_type": "code",
      "source": [
        "model = Word2Vec(df4['review'], size=100, window=5, min_count=5, workers=8, sg=0)\n",
        "\n",
        "model_result0 = model.wv.most_similar(\"다른\")\n",
        "print(model_result0)"
      ],
      "metadata": {
        "colab": {
          "base_uri": "https://localhost:8080/"
        },
        "id": "4qEzTLg_fCIL",
        "outputId": "9ec9bba4-8677-4f49-8dea-63a637321e54"
      },
      "id": "4qEzTLg_fCIL",
      "execution_count": 89,
      "outputs": [
        {
          "output_type": "stream",
          "name": "stderr",
          "text": [
            "WARNING:gensim.models.base_any2vec:under 10 jobs per worker: consider setting a smaller `batch_words' for smoother alpha decay\n"
          ]
        },
        {
          "output_type": "stream",
          "name": "stdout",
          "text": [
            "[('항상', 0.9993109703063965), ('앞', 0.9992780089378357), ('수', 0.9992760419845581), ('사용', 0.9992586970329285), ('브랜드', 0.9992433786392212), ('에이', 0.9992257356643677), ('제품', 0.9992081522941589), ('다만', 0.9991928935050964), ('코코', 0.9991844892501831), ('안', 0.9991804361343384)]\n"
          ]
        }
      ]
    },
    {
      "cell_type": "code",
      "source": [
        "model = Word2Vec(df4['review'], size=100, window=5, min_count=5, workers=8, sg=0)\n",
        "\n",
        "model_result0 = model.wv.most_similar(\"조금\")\n",
        "print(model_result0)"
      ],
      "metadata": {
        "colab": {
          "base_uri": "https://localhost:8080/"
        },
        "id": "mwbHeLlVfCNn",
        "outputId": "0e4e85b6-25e3-4621-cead-f3b357f13143"
      },
      "id": "mwbHeLlVfCNn",
      "execution_count": 90,
      "outputs": [
        {
          "output_type": "stream",
          "name": "stderr",
          "text": [
            "WARNING:gensim.models.base_any2vec:under 10 jobs per worker: consider setting a smaller `batch_words' for smoother alpha decay\n"
          ]
        },
        {
          "output_type": "stream",
          "name": "stdout",
          "text": [
            "[('전체', 0.9996302723884583), ('점', 0.9995895624160767), ('안', 0.9995827078819275), ('계속', 0.9995790123939514), ('금방', 0.9995746612548828), ('안나', 0.9995673894882202), ('시간', 0.9995568990707397), ('가까이', 0.999543309211731), ('확', 0.9995389580726624), ('부분', 0.9995272159576416)]\n"
          ]
        }
      ]
    },
    {
      "cell_type": "markdown",
      "id": "HYUDUkmxP1AA",
      "metadata": {
        "id": "HYUDUkmxP1AA"
      },
      "source": [
        "#5점"
      ]
    },
    {
      "cell_type": "code",
      "execution_count": 16,
      "id": "b73af55c",
      "metadata": {
        "colab": {
          "base_uri": "https://localhost:8080/"
        },
        "id": "b73af55c",
        "outputId": "2c7834df-aae4-4444-85a2-707adac9c918"
      },
      "outputs": [
        {
          "output_type": "execute_result",
          "data": {
            "text/plain": [
              "0    [백합, 튤립, 장미, 향, 무조건, 그린, 에어리, 제, 그린, 에어리, 벌써, ...\n",
              "1    [개구, 매하, 개, 서비스, 구해, 욥, 평소, 에디, 퓨저, 백화점, 사서, 에...\n",
              "2    [도대체, 왜, 이제, 이, 제품, 알, 된거, 왜, 그동안, 아무, 나, 거, 안...\n",
              "Name: review, dtype: object"
            ]
          },
          "metadata": {},
          "execution_count": 16
        }
      ],
      "source": [
        "df5['review'] = df5['review'].apply(lambda x: ''.join([i for i in x if i not in string.punctuation]))\n",
        "\n",
        "okt = Okt()\n",
        "\n",
        "def nouns(x):\n",
        "    if len(str(x)) >=1:\n",
        "        nouns = okt.nouns(x)\n",
        "    else:\n",
        "        pass\n",
        "    return nouns\n",
        "\n",
        "df5['review'] = df5['review'].apply(lambda x: nouns(x))\n",
        "\n",
        "df5['review'].head(3)"
      ]
    },
    {
      "cell_type": "code",
      "execution_count": 17,
      "id": "1480046d",
      "metadata": {
        "id": "1480046d",
        "colab": {
          "base_uri": "https://localhost:8080/"
        },
        "outputId": "7a7c52fd-a8b7-4e55-c2ae-b378b1a27944"
      },
      "outputs": [
        {
          "output_type": "stream",
          "name": "stdout",
          "text": [
            "[('정도', 0.9263159036636353), ('시간', 0.8730610609054565), ('지금', 0.8626751899719238), ('지나', 0.8185935020446777), ('원룸', 0.8184446096420288), ('공간', 0.8148709535598755), ('달', 0.8138476610183716), ('편이', 0.8107064962387085), ('꼽', 0.7981414794921875), ('두', 0.7976964116096497)]\n"
          ]
        }
      ],
      "source": [
        "model = Word2Vec(df5['review'], size=100, window=5, min_count=5, workers=8, sg=0)\n",
        "\n",
        "model_result0 = model.wv.most_similar(\"발향\")\n",
        "print(model_result0)"
      ]
    },
    {
      "cell_type": "code",
      "source": [
        "model = Word2Vec(df5['review'], size=100, window=5, min_count=5, workers=8, sg=0)\n",
        "\n",
        "model_result0 = model.wv.most_similar(\"스틱\")\n",
        "print(model_result0)"
      ],
      "metadata": {
        "colab": {
          "base_uri": "https://localhost:8080/"
        },
        "id": "lFnNFzppbMbd",
        "outputId": "0158a619-c91b-4ecd-b8a6-45112e93e8d8"
      },
      "id": "lFnNFzppbMbd",
      "execution_count": 18,
      "outputs": [
        {
          "output_type": "stream",
          "name": "stdout",
          "text": [
            "[('리드', 0.9403513073921204), ('개', 0.8921740055084229), ('꼽아놨는데', 0.8095158338546753), ('발향', 0.7953094244003296), ('하나', 0.7911288142204285), ('정도', 0.7806979417800903), ('두', 0.7612901926040649), ('조절', 0.7539762854576111), ('꼽아', 0.7397588491439819), ('꼽', 0.7387460470199585)]\n"
          ]
        }
      ]
    },
    {
      "cell_type": "code",
      "source": [
        "model = Word2Vec(df5['review'], size=100, window=5, min_count=5, workers=8, sg=0)\n",
        "\n",
        "model_result0 = model.wv.most_similar(\"기분\")\n",
        "print(model_result0)"
      ],
      "metadata": {
        "colab": {
          "base_uri": "https://localhost:8080/"
        },
        "id": "luEX4ld6bMdh",
        "outputId": "ab9f9b06-669f-4aa8-8c4b-0dc79e96a9cf"
      },
      "id": "luEX4ld6bMdh",
      "execution_count": 19,
      "outputs": [
        {
          "output_type": "stream",
          "name": "stdout",
          "text": [
            "[('가득', 0.8695915937423706), ('집안', 0.8491522073745728), ('온', 0.8347635269165039), ('솔솔', 0.822210431098938), ('신발장', 0.8165473937988281), ('향기', 0.8164321780204773), ('확', 0.8140953779220581), ('가면', 0.8080916404724121), ('전환', 0.806923508644104), ('시장', 0.8001291751861572)]\n"
          ]
        }
      ]
    },
    {
      "cell_type": "code",
      "source": [
        "model = Word2Vec(df5['review'], size=100, window=5, min_count=5, workers=8, sg=0)\n",
        "\n",
        "model_result0 = model.wv.most_similar(\"선물\")\n",
        "print(model_result0)"
      ],
      "metadata": {
        "colab": {
          "base_uri": "https://localhost:8080/"
        },
        "id": "6Qq29c4xbMfs",
        "outputId": "54893f89-5084-4757-c4e2-13da3fbf4cc4"
      },
      "id": "6Qq29c4xbMfs",
      "execution_count": 20,
      "outputs": [
        {
          "output_type": "stream",
          "name": "stdout",
          "text": [
            "[('집들이', 0.9005259275436401), ('생일', 0.860655665397644), ('쇼핑', 0.8580952286720276), ('지인', 0.8500310182571411), ('차량', 0.8395166397094727), ('용', 0.8354730010032654), ('백도', 0.8277236223220825), ('도', 0.8120201826095581), ('용이', 0.806551992893219), ('손색', 0.8016998767852783)]\n"
          ]
        }
      ]
    },
    {
      "cell_type": "code",
      "execution_count": 21,
      "id": "c8206e73",
      "metadata": {
        "id": "c8206e73",
        "colab": {
          "base_uri": "https://localhost:8080/"
        },
        "outputId": "a9bf8ddf-4495-4dfd-cfa7-59da401267c0"
      },
      "outputs": [
        {
          "output_type": "stream",
          "name": "stdout",
          "text": [
            "[('안방', 0.9241852760314941), ('현관', 0.9238522052764893), ('주방', 0.9015567898750305), ('화장실', 0.8838493824005127), ('입구', 0.8786240816116333), ('욕실', 0.8642085194587708), ('방', 0.8622268438339233), ('방이', 0.8452153205871582), ('놨는데', 0.8433456420898438), ('려고', 0.8406697511672974)]\n"
          ]
        }
      ],
      "source": [
        "model = Word2Vec(df5['review'], size=100, window=5, min_count=5, workers=8, sg=0)\n",
        "\n",
        "model_result0 = model.wv.most_similar(\"거실\")\n",
        "print(model_result0)"
      ]
    },
    {
      "cell_type": "code",
      "source": [
        "model = Word2Vec(df5['review'], size=100, window=5, min_count=5, workers=8, sg=0)\n",
        "\n",
        "model_result0 = model.wv.most_similar(\"꽃집\")\n",
        "print(model_result0)"
      ],
      "metadata": {
        "colab": {
          "base_uri": "https://localhost:8080/"
        },
        "id": "De1v8IjwbrV7",
        "outputId": "56b4c936-5114-4152-ce07-52f80776ecbd"
      },
      "id": "De1v8IjwbrV7",
      "execution_count": 22,
      "outputs": [
        {
          "output_type": "stream",
          "name": "stdout",
          "text": [
            "[('생화', 0.9495153427124023), ('진짜', 0.9090448617935181), ('꽃집향', 0.8955283761024475), ('말', 0.8733811974525452), ('나', 0.8665204048156738), ('향기', 0.8649709224700928), ('풀', 0.8613694310188293), ('반했어', 0.8606633543968201), ('빵', 0.8586879968643188), ('정말', 0.8532135486602783)]\n"
          ]
        }
      ]
    },
    {
      "cell_type": "code",
      "source": [
        "model = Word2Vec(df5['review'], size=100, window=5, min_count=5, workers=8, sg=0)\n",
        "\n",
        "model_result0 = model.wv.most_similar(\"구매\")\n",
        "print(model_result0)"
      ],
      "metadata": {
        "colab": {
          "base_uri": "https://localhost:8080/"
        },
        "id": "cx4O9twxbrdw",
        "outputId": "9e4b9222-a280-4f3a-e25d-b762d9196a65"
      },
      "id": "cx4O9twxbrdw",
      "execution_count": 23,
      "outputs": [
        {
          "output_type": "stream",
          "name": "stdout",
          "text": [
            "[('구입', 0.9431380033493042), ('재', 0.933263897895813), ('이번', 0.9260942935943604), ('예정', 0.9157463908195496), ('번', 0.8830674290657043), ('이벤트', 0.8768705725669861), ('도전', 0.8765354752540588), ('역시', 0.8743283748626709), ('평이', 0.8718734383583069), ('주문', 0.8639158606529236)]\n"
          ]
        }
      ]
    },
    {
      "cell_type": "code",
      "source": [
        "model = Word2Vec(df5['review'], size=100, window=5, min_count=5, workers=8, sg=0)\n",
        "\n",
        "model_result0 = model.wv.most_similar(\"냄새\")\n",
        "print(model_result0)"
      ],
      "metadata": {
        "colab": {
          "base_uri": "https://localhost:8080/"
        },
        "id": "VXSIkXskbrjc",
        "outputId": "379a9345-cf7d-4a08-c7b3-22231c4812c7"
      },
      "id": "VXSIkXskbrjc",
      "execution_count": 24,
      "outputs": [
        {
          "output_type": "stream",
          "name": "stdout",
          "text": [
            "[('나', 0.8775690793991089), ('막', 0.8382549285888672), ('식물원', 0.8305006623268127), ('가면', 0.8226234316825867), ('풀', 0.8165502548217773), ('특유', 0.8116434812545776), ('코', 0.8075500130653381), ('여자', 0.7936195135116577), ('때', 0.7927901744842529), ('그', 0.7915682792663574)]\n"
          ]
        }
      ]
    },
    {
      "cell_type": "code",
      "source": [
        "model = Word2Vec(df5['review'], size=100, window=5, min_count=5, workers=8, sg=0)\n",
        "\n",
        "model_result0 = model.wv.most_similar(\"그린\")\n",
        "print(model_result0)"
      ],
      "metadata": {
        "colab": {
          "base_uri": "https://localhost:8080/"
        },
        "id": "Mwb8oXgWbrmo",
        "outputId": "dc367a40-5921-40fc-ae46-71518f6f9a6c"
      },
      "id": "Mwb8oXgWbrmo",
      "execution_count": 25,
      "outputs": [
        {
          "output_type": "stream",
          "name": "stdout",
          "text": [
            "[('던', 0.8347594141960144), ('꽃집향', 0.7159998416900635), ('꽃길', 0.7138328552246094), ('인기', 0.701903760433197), ('베스트셀러', 0.6985883116722107), ('제일', 0.6719098091125488), ('반했어', 0.6698163747787476), ('워터', 0.6527498364448547), ('그니', 0.6481181383132935), ('라이브러리', 0.6332112550735474)]\n"
          ]
        }
      ]
    },
    {
      "cell_type": "code",
      "execution_count": 26,
      "id": "c56fe064",
      "metadata": {
        "id": "c56fe064",
        "colab": {
          "base_uri": "https://localhost:8080/"
        },
        "outputId": "5cf0e347-e1fc-4d76-9b90-71fb281b4086"
      },
      "outputs": [
        {
          "output_type": "stream",
          "name": "stdout",
          "text": [
            "[('가면', 0.917963981628418), ('풀꽃', 0.9038320779800415), ('줄기', 0.9014124870300293), ('시장', 0.8980783820152283), ('나', 0.8951107263565063), ('생화', 0.8886021971702576), ('풀이', 0.8837054967880249), ('화원', 0.8743224143981934), ('꽃집', 0.8711813688278198), ('손질', 0.8632109761238098)]\n"
          ]
        }
      ],
      "source": [
        "model = Word2Vec(df5['review'], size=100, window=5, min_count=5, workers=8, sg=0)\n",
        "\n",
        "model_result0 = model.wv.most_similar(\"향기\")\n",
        "print(model_result0)"
      ]
    },
    {
      "cell_type": "code",
      "source": [
        "model = Word2Vec(df5['review'], size=100, window=5, min_count=5, workers=8, sg=0)\n",
        "\n",
        "model_result0 = model.wv.most_similar(\"화장실\")\n",
        "print(model_result0)"
      ],
      "metadata": {
        "colab": {
          "base_uri": "https://localhost:8080/"
        },
        "id": "jN2lvqcIb1Cu",
        "outputId": "fd5338b5-c0b9-43d4-d137-2aa759e40646"
      },
      "id": "jN2lvqcIb1Cu",
      "execution_count": 27,
      "outputs": [
        {
          "output_type": "stream",
          "name": "stdout",
          "text": [
            "[('안방', 0.9063373804092407), ('현관', 0.8920997977256775), ('려고', 0.8838647603988647), ('거실', 0.8790106177330017), ('욕실', 0.8611122369766235), ('주방', 0.8584813475608826), ('두기', 0.8558381795883179), ('입구', 0.8292466402053833), ('방', 0.8210302591323853), ('아이방', 0.8196629285812378)]\n"
          ]
        }
      ]
    }
  ],
  "metadata": {
    "colab": {
      "provenance": []
    },
    "kernelspec": {
      "display_name": "Python 3 (ipykernel)",
      "language": "python",
      "name": "python3"
    },
    "language_info": {
      "codemirror_mode": {
        "name": "ipython",
        "version": 3
      },
      "file_extension": ".py",
      "mimetype": "text/x-python",
      "name": "python",
      "nbconvert_exporter": "python",
      "pygments_lexer": "ipython3",
      "version": "3.8.2"
    }
  },
  "nbformat": 4,
  "nbformat_minor": 5
}